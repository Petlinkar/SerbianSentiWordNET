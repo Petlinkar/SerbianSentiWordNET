import TestLLM


TestLLM.print_correctly_classified_instances(0, "POS" , "BERTic")


TestLLM.print_correctly_classified_instances(0, "POS" , "BERTicovo")


TestLLM.print_correctly_classified_instances(2, "POS" , "BERTic")


TestLLM.print_correctly_classified_instances(2, "POS" , "BERTicovo")


TestLLM.print_correctly_classified_instances(4, "POS" , "BERTic")


TestLLM.print_correctly_classified_instances(4, "POS" , "BERTicovo")


TestLLM.compare_models(0, "POS", "BERTic", "BERTicovo")


TestLLM.compare_models(0, "NEG", "BERTic", "BERTicovo")


TestLLM.compare_models(0, "NEG", "BERTic", "SRGPT")


TestLLM.print_correctly_classified_instances(2, "POS" , "SRBGPT")


TestLLM.print_correctly_classified_instances(4, "POS" , "SRBGPT")


TestLLM.print_correctly_classified_instances(4, "NEG" , "SRBGPT")


TestLLM.compare_models(4, "POS", "BERTic", "SRGPT")


TestLLM.compare_models(4, "NEG", "BERTic", "SRGPT")


TestLLM.test_model(4, "POS", "SRGPT")


TestLLM.test_model(2, "POS", "SRGPT")


TestLLM.test_model(4, "NEG", "SRGPT")


TestLLM.test_model(2, "NEG", "SRGPT")




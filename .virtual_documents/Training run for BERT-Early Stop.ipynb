





import trainBERTovo
import trainBERTic





trainBERTic.train_model(0, "POS", eval="f1", epochs =32)


trainBERTic.test_model(0, "POS")


trainBERTic.train_model(0, "NEG", eval="f1", epochs =32)


trainBERTic.test_model(0, "NEG")


trainBERTovo.train_model(0, "POS", eval="f1", epochs = 32)


trainBERTovo.test_model(0, "POS")


trainBERTovo.train_model(0, "NEG", eval="f1", epochs =32)


trainBERTovo.test_model(0, "NEG")





trainBERTic.train_model(2, "POS", eval="f1", epochs = 32)


trainBERTic.test_model(2, "POS")


trainBERTic.train_model(2, "NEG", eval="f1", epochs = 32)


trainBERTic.test_model(2, "NEG")


trainBERTovo.train_model(2, "POS", eval="f1", epochs = 32)


trainBERTovo.test_model(2, "POS")


trainBERTovo.train_model(2, "NEG", eval="f1", epochs = 32)


trainBERTovo.test_model(2, "NEG")





trainBERTic.train_model(4, "POS", eval="f1", epochs = 32)


trainBERTic.test_model(4, "POS")


trainBERTic.train_model(4, "NEG", eval="f1", epochs = 32)


trainBERTic.test_model(4, "NEG")


trainBERTovo.train_model(4, "POS", eval="f1", epochs = 32)


trainBERTovo.test_model(4, "POS")


trainBERTovo.train_model(4, "NEG", eval="f1", epochs = 32)


trainBERTovo.test_model(4, "NEG")





trainBERTic.train_model(6, "POS", eval="f1", epochs = 32)


trainBERTic.test_model(6, "POS")


trainBERTic.train_model(6, "NEG", eval="f1", epochs = 32)


trainBERTic.test_model(6, "NEG")


trainBERTovo.train_model(6, "POS", eval="f1", epochs = 32)


trainBERTovo.test_model(6, "POS")


trainBERTovo.train_model(6, "NEG", eval="f1", epochs = 32)


trainBERTovo.test_model(6, "NEG")

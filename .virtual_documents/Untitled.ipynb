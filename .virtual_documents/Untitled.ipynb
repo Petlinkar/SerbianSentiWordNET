from sentiwordnet_calculator import SentimentPipeline


pipe = SentimentPipeline("Tanor/SRGPTSENTPOS4", "Tanor/SRGPTSENTNEG4")


pipe("žalostan zbog gubitka ili uskraćenosti")


pipe("Stanje kada je neko prosperitetan i uspešan.")


pipe("koji lako žali i sažaljeva")


from transformers import pipeline 


pipe_pos =pipeline('text-classification', model="Tanor/SRGPTSENTPOS4")


pipe_neg =pipeline('text-classification', model="Tanor/SRGPTSENTNEG4")


pipe_pos("osećanje duboke ljubavi i divljenja")


pipe_neg("osećanje duboke ljubavi i divljenja")


pipe("osećanje duboke ljubavi i divljenja")


pipe_neg("koji čini živahnim i veselim")


pipe_BERic = SentimentPipeline("Tanor/BERTicSENTPOS4", "Tanor/BERTicSENTNEG4")


pipe_BERic("osećanje duboke ljubavi i divljenja")


pipe_BERic("osećanje duboke ljubavi i divljenja")

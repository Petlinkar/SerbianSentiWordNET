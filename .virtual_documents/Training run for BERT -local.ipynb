





import trainBERTovoLocal



trainBERTovoLocal.train_model(0, "POS")


trainBERTovoLocal.test_model(0, "POS")


trainBERTic.train_model(0, "POS")


trainBERTic.test_model(0, "POS")


trainBERTovo.train_model(0, "NEG")


trainBERTovo.test_model(0, "NEG")


trainBERTic.train_model(0, "NEG")


trainBERTic.test_model(0, "NEG")




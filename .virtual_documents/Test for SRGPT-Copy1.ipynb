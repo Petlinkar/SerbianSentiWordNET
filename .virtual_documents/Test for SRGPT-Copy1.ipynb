


%run trainSRGPT.py





%run trainSRGPT.py





%run trainSRGPT.py


%run trainSRGPT.py


%run trainSRGPT.py


trainer.push_to_hub()


%run trainSRGPT.py




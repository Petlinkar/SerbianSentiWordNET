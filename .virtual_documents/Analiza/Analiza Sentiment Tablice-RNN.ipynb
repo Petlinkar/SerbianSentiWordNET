



import pandas as pd



RES_DIR = "..\\resources\\"
MOD_DIR = "..\\ml_models\\"






sent_an = pd.read_csv(RES_DIR + "srbsentiwordnet_a4.cvs",  index_col=0)


sent_an["OBJ"] = 1-( sent_an["NEG"]+sent_an["POS"])


sent_an


pd.set_option('display.max_rows', None)








sent_an["POS"].value_counts()


sent_an[sent_an["POS"]>.9][["Lemme", "POS"]]





sent_an["NEG"].value_counts()


sent_an[sent_an["NEG"]>.9][["Lemme", "NEG"]]





sent_an["OBJ"].value_counts()


import matplotlib.pyplot as plt








sent_an.hist(bins=8)


sent_an[sent_an["POS"]>.1]["POS"].hist(bins=8)


sent_an[sent_an["POS"]>.2]["POS"].hist(bins=8)


sent_an[sent_an["NEG"]>.1]["NEG"].hist(bins=8)


sent_an[sent_an["NEG"]>.2]["NEG"].hist(bins=8)





sent_an["Vrsta"].value_counts(sort=True)


sent_an["Vrsta"].value_counts(sort=True).plot(kind ="pie")


sent_an.hist(bins=8, by="Vrsta", legend =True, column= ["POS", "NEG"] )


sent_an[sent_an["POS"]>.1].hist(bins=8, by="Vrsta", column="POS")


sent_an[sent_an["POS"]>.2].hist(bins=8, by="Vrsta", column="POS")


sent_an[sent_an["NEG"]>.1].hist(bins=8, by="Vrsta", column="NEG")


sent_an[sent_an["NEG"]>.2].hist(bins=8, by="Vrsta", column="NEG")





import numpy as np
import matplotlib.pyplot as plt

sent_bez0 = sent_an[np.logical_xor(((sent_an["POS"] ==0) & (sent_an["NEG"] == 0)), 1)]

fig = plt.figure()
ax = fig.add_subplot(projection='3d')
x, y = sent_bez0["POS"], sent_bez0["NEG"]
hist, xedges, yedges = np.histogram2d(x, y, bins=64, range=[[0, 1], [0, 1]])

# Construct arrays for the anchor positions of the 16 bars.
xpos, ypos = np.meshgrid(xedges[:-1] , yedges[:-1] , indexing="ij")
xpos = xpos.ravel()
ypos = ypos.ravel()
zpos = 0

# Construct arrays with the dimensions for the 64 bars.
dx = dy = 0.125 * np.ones_like(zpos)
dz = hist.ravel()

ax.bar3d(xpos, ypos, zpos, dx, dy, dz, zsort='average')

plt.show()


((sent_an["POS"] ==0) & (sent_an["NEG"] == 0)).value_counts(sort=True).plot(kind ="pie")


# srbsentiwordnet2.cvs
# srbsentiwordnet_a2.cvs

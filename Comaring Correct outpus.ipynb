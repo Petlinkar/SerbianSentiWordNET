{
 "cells": [
  {
   "cell_type": "code",
   "execution_count": 1,
   "id": "d306a8dd-caaf-496d-adc9-64085f171a27",
   "metadata": {},
   "outputs": [],
   "source": [
    "import TestLLM"
   ]
  },
  {
   "cell_type": "code",
   "execution_count": 2,
   "id": "b74f6c13-8786-4a71-ad9c-c32e8d7f5174",
   "metadata": {},
   "outputs": [
    {
     "name": "stderr",
     "output_type": "stream",
     "text": [
      "Xformers is not installed correctly. If you want to use memory_efficient_attention to accelerate training use the following command to install Xformers\n",
      "pip install xformers.\n"
     ]
    },
    {
     "name": "stdout",
     "output_type": "stream",
     "text": [
      "215     Kvalitet koji čini daa je nešto poželjno, vred...\n",
      "279                               Visoka vrednost nečega.\n",
      "691     osećati se veselo i biti ispunjen dobrim raspo...\n",
      "833                    kvalitet onoga što ima veliku cenu\n",
      "919                         Biti prihvatljiv ili pristao.\n",
      "951                          koji čini živahnim i veselim\n",
      "970             (za naglašavanje značenja) izuzetno dobro\n",
      "1154             koji ohrabruje, odobrava ili zadovoljava\n",
      "1282    Onaj koji uživa ili pokazuje radost, zadovoljs...\n",
      "1365                                      Upadljiv uspeh.\n",
      "1373           radnja koju karakteriše dobro raspoloženje\n",
      "1771                činjenje dobra; osećaj dobrotvornosti\n",
      "1794    Osobina onog ko je široko prihvaćen i čije se ...\n",
      "2315                             koji donosi dobar profit\n",
      "2581    Jako pozitivno osećanje poštovanja i privrežen...\n",
      "3140                             usrećiti ili zadovoljiti\n",
      "3406         Stanje kada je neko prosperitetan i uspešan.\n",
      "3483    koji oseća ili ispoljava veliko uzbuđenje ili ...\n",
      "3536                                  biti privlačan kome\n",
      "3592           sposoban za korektno i validno rezonovanje\n",
      "3945                                Moralna izvanrednost.\n",
      "4224             Zaokupiti na prijatan ili zabavan način.\n",
      "4351          francuska reč za sreću i dobro raspoloženje\n",
      "4444                           Korisna ili vredna osobina\n",
      "Name: X, dtype: object\n"
     ]
    }
   ],
   "source": [
    "TestLLM.print_correctly_classified_instances(0, \"POS\" , \"BERTic\")"
   ]
  },
  {
   "cell_type": "code",
   "execution_count": 3,
   "id": "259d30ca-0b4a-4414-ad14-3e1b119bab2f",
   "metadata": {},
   "outputs": [
    {
     "name": "stdout",
     "output_type": "stream",
     "text": [
      "691     osećati se veselo i biti ispunjen dobrim raspo...\n",
      "1771                činjenje dobra; osećaj dobrotvornosti\n",
      "2581    Jako pozitivno osećanje poštovanja i privrežen...\n",
      "3140                             usrećiti ili zadovoljiti\n",
      "3592           sposoban za korektno i validno rezonovanje\n",
      "4444                           Korisna ili vredna osobina\n",
      "Name: X, dtype: object\n"
     ]
    }
   ],
   "source": [
    "TestLLM.print_correctly_classified_instances(0, \"POS\" , \"BERTicovo\")"
   ]
  },
  {
   "cell_type": "code",
   "execution_count": 4,
   "id": "52040da3-5afa-42f6-8dc5-60dc5519b0d7",
   "metadata": {},
   "outputs": [
    {
     "name": "stdout",
     "output_type": "stream",
     "text": [
      "88                                      Veliko bogatstvo.\n",
      "99          osobina prefinjene uglađenosti i dobrog ukusa\n",
      "128                         Biti prihvatljiv ili pristao.\n",
      "136         koji donosi spasenje ili iskupljenje od greha\n",
      "317                    nešto što izaziva osećanje čuđenja\n",
      "380            Osećanje samopoštovanja i lične vrednosti.\n",
      "436              koji ohrabruje, odobrava ili zadovoljava\n",
      "561                 Stanje zadovoljstva jer nema bolesti.\n",
      "584                              koji donosi dobar profit\n",
      "799                    postojan u naklonosti ili odanosti\n",
      "812     Kvalitet koji čini daa je nešto poželjno, vred...\n",
      "1022    Koji ima potrebne sposobnosti, veštinu ili zna...\n",
      "1533                onaj koji poseduje moralne kvalitete;\n",
      "1551           koji ispoljava pogodan ili povoljan uticaj\n",
      "1662    Onaj ko ima nežnu, pažljivu i obzirnu prirodu;...\n",
      "1776     koji pokazuje ili izaziva veselje i zadovoljstvo\n",
      "1807    kvalitet koji ima nešto što ima veliku vrednos...\n",
      "1856    Osećanje naklonjenosti drugim osobama; uživanj...\n",
      "1931          onaj kojeg vredi imati, tražiti ili dostići\n",
      "2031            Biti nekome prihvatljiv ili odgovarajući.\n",
      "2193    Koji nastaje iz želje da se doprinese blagosta...\n",
      "2269               Osobina onoga što zaslužuje poverenje.\n",
      "2498                         Umetnik nenadmašnih veština.\n",
      "2558                                 blagonaklona procena\n",
      "2831                     osećati zadovoljstvo zbog nečega\n",
      "3176                               osećanje naklonjenosti\n",
      "3224                   kvalitet onoga što ima veliku cenu\n",
      "3291      preuveličano osećanje blagostanja ili ushićenja\n",
      "3305              onaj koji ima visoku vrednost ili cenu;\n",
      "3356                         koji čini živahnim i veselim\n",
      "3440                     Od velikog značaja ili važnosti.\n",
      "3461          Biti potpun u svojoj vrsti, bez nedostataka\n",
      "3471           radnja koju karakteriše dobro raspoloženje\n",
      "4098                           koji čini ili donosi dobro\n",
      "4496                na visokom nivou po rangu ili značaju\n",
      "4784    Koji ushićuje čula, uzbuđuje duh ili izaziva e...\n",
      "4949    koji je oslobođen stresa ili pogoduje mentalno...\n",
      "Name: X, dtype: object\n"
     ]
    }
   ],
   "source": [
    "TestLLM.print_correctly_classified_instances(2, \"POS\" , \"BERTic\")"
   ]
  },
  {
   "cell_type": "code",
   "execution_count": 5,
   "id": "decd6cd7-2b20-4606-8bc4-9cef1fd8c35b",
   "metadata": {},
   "outputs": [
    {
     "name": "stdout",
     "output_type": "stream",
     "text": [
      "99          osobina prefinjene uglađenosti i dobrog ukusa\n",
      "1148    briga o razlikovanju dobra i zla ili pravednog...\n",
      "1807    kvalitet koji ima nešto što ima veliku vrednos...\n",
      "1856    Osećanje naklonjenosti drugim osobama; uživanj...\n",
      "2558                                 blagonaklona procena\n",
      "2831                     osećati zadovoljstvo zbog nečega\n",
      "3176                               osećanje naklonjenosti\n",
      "3291      preuveličano osećanje blagostanja ili ushićenja\n",
      "3513    Koji je pred erupcijom ili izbacuje lavu (o vu...\n",
      "3999                                   prijateljska narav\n",
      "4423                                 postići bod ili cilj\n",
      "Name: X, dtype: object\n"
     ]
    }
   ],
   "source": [
    "TestLLM.print_correctly_classified_instances(2, \"POS\" , \"BERTicovo\")"
   ]
  },
  {
   "cell_type": "code",
   "execution_count": 6,
   "id": "3adb77a9-a1ce-4be4-9eb9-9c4655e46e43",
   "metadata": {},
   "outputs": [
    {
     "name": "stdout",
     "output_type": "stream",
     "text": [
      "76                    osećanje duboke ljubavi i divljenja\n",
      "91                                        Učiniti boljim.\n",
      "479                                     Veliko bogatstvo.\n",
      "691                            koji čini ili donosi dobro\n",
      "1290    koji pokazuje ili je motivisan saosećanjem, ra...\n",
      "1664               Imati sposobnost ili moć kreativnosti.\n",
      "1864                  osećanje prijateljstva i uvažavanja\n",
      "2056    Osećanja proživljena kada je neko u zadovoljno...\n",
      "2630           koji ispoljava pogodan ili povoljan uticaj\n",
      "2746                                       veseo i ozaren\n",
      "2764                       Stav divljenja ili poštovanja.\n",
      "2857                           koji lako žali i sažaljeva\n",
      "2879    Osećanje naklonjenosti drugim osobama; uživanj...\n",
      "3179           Osećanje samopoštovanja i lične vrednosti.\n",
      "3187                        prijatno i površno uzbuđujući\n",
      "3481                         koji čini živahnim i veselim\n",
      "3611                        Biti zdrav, osećati se dobro.\n",
      "3655             Kvalitet koji pruža zadovoljstvo čulima.\n",
      "3675    Onaj koji uživa ili pokazuje radost, zadovoljs...\n",
      "3781                     osećati zadovoljstvo zbog nečega\n",
      "4336    Stanje pozitivnih osećanja, od zadovoljstva do...\n",
      "4509    osobina ljudi da veruju u poštenje i pouzdanos...\n",
      "4624                         držanje do moralnih principa\n",
      "4649              koji ima urođenu sklonost prema dobroti\n",
      "4953          Biti potpun u svojoj vrsti, bez nedostataka\n",
      "Name: X, dtype: object\n"
     ]
    }
   ],
   "source": [
    "TestLLM.print_correctly_classified_instances(4, \"POS\" , \"BERTic\")"
   ]
  },
  {
   "cell_type": "code",
   "execution_count": 7,
   "id": "7d4fe2cb-d031-4890-9300-c5b3f323d79f",
   "metadata": {},
   "outputs": [
    {
     "name": "stdout",
     "output_type": "stream",
     "text": [
      "76                    osećanje duboke ljubavi i divljenja\n",
      "975           preparat koji se koristi za čišćenje nečega\n",
      "1450           sposoban za korektno i validno rezonovanje\n",
      "1530    Čin ukrašavanja nečega (u nadi da će od toga p...\n",
      "1864                  osećanje prijateljstva i uvažavanja\n",
      "2461                                 postići bod ili cilj\n",
      "2746                                       veseo i ozaren\n",
      "2879    Osećanje naklonjenosti drugim osobama; uživanj...\n",
      "2891                               kojeg je neko uveselio\n",
      "3024    briga o razlikovanju dobra i zla ili pravednog...\n",
      "3544            smanjiti bol ili neprijatnosti ; ublažiti\n",
      "3781                     osećati zadovoljstvo zbog nečega\n",
      "4509    osobina ljudi da veruju u poštenje i pouzdanos...\n",
      "4624                         držanje do moralnih principa\n",
      "4750    učiniti čistim ili slobodnim od greha ili krivice\n",
      "Name: X, dtype: object\n"
     ]
    }
   ],
   "source": [
    "TestLLM.print_correctly_classified_instances(4, \"POS\" , \"BERTicovo\")"
   ]
  },
  {
   "cell_type": "code",
   "execution_count": 8,
   "id": "3bd91502-3d59-40d2-bbf4-24aaaef4edd0",
   "metadata": {},
   "outputs": [
    {
     "name": "stdout",
     "output_type": "stream",
     "text": [
      "Texts correctly classified as class 1 by both models:\n",
      " 0    osećati se veselo i biti ispunjen dobrim raspo...\n",
      "1                činjenje dobra; osećaj dobrotvornosti\n",
      "2    Jako pozitivno osećanje poštovanja i privrežen...\n",
      "3                             usrećiti ili zadovoljiti\n",
      "4           sposoban za korektno i validno rezonovanje\n",
      "5                           Korisna ili vredna osobina\n",
      "Name: X, dtype: object\n",
      "Texts correctly classified as class 1 by the first model but not the second:\n",
      " 215     Kvalitet koji čini daa je nešto poželjno, vred...\n",
      "279                               Visoka vrednost nečega.\n",
      "833                    kvalitet onoga što ima veliku cenu\n",
      "919                         Biti prihvatljiv ili pristao.\n",
      "951                          koji čini živahnim i veselim\n",
      "970             (za naglašavanje značenja) izuzetno dobro\n",
      "1154             koji ohrabruje, odobrava ili zadovoljava\n",
      "1282    Onaj koji uživa ili pokazuje radost, zadovoljs...\n",
      "1365                                      Upadljiv uspeh.\n",
      "1373           radnja koju karakteriše dobro raspoloženje\n",
      "1794    Osobina onog ko je široko prihvaćen i čije se ...\n",
      "2315                             koji donosi dobar profit\n",
      "3406         Stanje kada je neko prosperitetan i uspešan.\n",
      "3483    koji oseća ili ispoljava veliko uzbuđenje ili ...\n",
      "3536                                  biti privlačan kome\n",
      "3945                                Moralna izvanrednost.\n",
      "4224             Zaokupiti na prijatan ili zabavan način.\n",
      "4351          francuska reč za sreću i dobro raspoloženje\n",
      "Name: X, dtype: object\n",
      "Texts correctly classified as class 1 by the second model but not the first:\n",
      " Series([], Name: X, dtype: object)\n"
     ]
    }
   ],
   "source": [
    "TestLLM.compare_models(0, \"POS\", \"BERTic\", \"BERTicovo\")"
   ]
  },
  {
   "cell_type": "code",
   "execution_count": 9,
   "id": "ee7ed086-db22-444f-b32c-35ddfb53b6c4",
   "metadata": {},
   "outputs": [
    {
     "name": "stdout",
     "output_type": "stream",
     "text": [
      "Texts correctly classified as class 1 by both models:\n",
      " 0                              uopštenih osećanja tuge\n",
      "1                              zlonamerno zadovoljstvo\n",
      "2               žalostan zbog gubitka ili uskraćenosti\n",
      "3             odsustvo moralnih ili duhovnih vrednosti\n",
      "4    iznenadno stanje žestoke emocionalne uznemiren...\n",
      "5                    nedolično ili nemoralno ponašanje\n",
      "Name: X, dtype: object\n",
      "Texts correctly classified as class 1 by the first model but not the second:\n",
      " 215     Kvalitet nečega što nije adekvatno ili perfektno.\n",
      "614             Posramiti nekoga; povrediti nečiji ponos.\n",
      "691                              biti uplašen, plašiti se\n",
      "833                       Kvalitet onog ko nije brižljiv.\n",
      "919     koji zaslužuje sažaljenje ili podstiče na saža...\n",
      "951                 nenormalna depresija i nezadovoljstvo\n",
      "996     onaj kojem se ne može ukazati poverenje, u kog...\n",
      "1154    Stanje u kome čovek ne može da funkcioniše nor...\n",
      "1347    nejasno i neprijatno osećanje koje se ima u iš...\n",
      "1356              Smatrati da je nešto loše ili pogrešno.\n",
      "1365                 koji odražava sumornost i smrknutost\n",
      "1387                      okrutno ili nehumano postupanje\n",
      "1454    koji misli najgore o ljudskoj prirodi i motivi...\n",
      "1658                          tuga izazvana bolom i tugom\n",
      "2383                      Uzrok velikih patnji i nesreće.\n",
      "2464    Intenzivno ili preterano loš ili neprijatan po...\n",
      "2733                     biti odbojan; izazivati averziju\n",
      "2780                     koji nije raspoložen da sarađuje\n",
      "2965                                    moralno iskvariti\n",
      "3073    mentalno uznemiren zbog moguće nesreće ili opa...\n",
      "3406    koji je označen beznadežnošću ili ispoljava be...\n",
      "3592                Biti lažljiv, neiskrene prema nekome.\n",
      "3599                                 okarakterisan zlobom\n",
      "3687                   veoma nesrećan; ispunjen mizerijom\n",
      "3764                   izuzetno loš ili nezadovoljavajući\n",
      "3806             Prolivati suze zbog tuge, besa ili bola.\n",
      "3945    Koji nema potrebne sposobnosti, veštinu ili zn...\n",
      "4319    koji izaziva neprijatnost; na primer, neprijat...\n",
      "4877            Osobina onoga što ne zaslužuje poverenje.\n",
      "Name: X, dtype: object\n",
      "Texts correctly classified as class 1 by the second model but not the first:\n",
      " 279    osoba koja ne prihvata nove ideje\n",
      "533                 intenzivna ojađenost\n",
      "Name: X, dtype: object\n"
     ]
    }
   ],
   "source": [
    "TestLLM.compare_models(0, \"NEG\", \"BERTic\", \"BERTicovo\")"
   ]
  },
  {
   "cell_type": "code",
   "execution_count": 10,
   "id": "1fcae7df-61d2-4bec-b0db-e66d62dbbeb1",
   "metadata": {},
   "outputs": [
    {
     "name": "stdout",
     "output_type": "stream",
     "text": [
      "Texts correctly classified as class 1 by both models:\n",
      " 0     Kvalitet nečega što nije adekvatno ili perfektno.\n",
      "1             Posramiti nekoga; povrediti nečiji ponos.\n",
      "2                       Kvalitet onog ko nije brižljiv.\n",
      "3     koji zaslužuje sažaljenje ili podstiče na saža...\n",
      "4                 nenormalna depresija i nezadovoljstvo\n",
      "5     Stanje u kome čovek ne može da funkcioniše nor...\n",
      "6     nejasno i neprijatno osećanje koje se ima u iš...\n",
      "7               Smatrati da je nešto loše ili pogrešno.\n",
      "8                       okrutno ili nehumano postupanje\n",
      "9                           tuga izazvana bolom i tugom\n",
      "10               žalostan zbog gubitka ili uskraćenosti\n",
      "11                      Uzrok velikih patnji i nesreće.\n",
      "12    Intenzivno ili preterano loš ili neprijatan po...\n",
      "13    iznenadno stanje žestoke emocionalne uznemiren...\n",
      "14    mentalno uznemiren zbog moguće nesreće ili opa...\n",
      "15    koji je označen beznadežnošću ili ispoljava be...\n",
      "16                    nedolično ili nemoralno ponašanje\n",
      "17                                 okarakterisan zlobom\n",
      "18                   izuzetno loš ili nezadovoljavajući\n",
      "19             Prolivati suze zbog tuge, besa ili bola.\n",
      "20    Koji nema potrebne sposobnosti, veštinu ili zn...\n",
      "21    koji izaziva neprijatnost; na primer, neprijat...\n",
      "Name: X, dtype: object\n",
      "Texts correctly classified as class 1 by the first model but not the second:\n",
      " 691                              biti uplašen, plašiti se\n",
      "970                               uopštenih osećanja tuge\n",
      "996     onaj kojem se ne može ukazati poverenje, u kog...\n",
      "1365                 koji odražava sumornost i smrknutost\n",
      "1407                              zlonamerno zadovoljstvo\n",
      "1454    koji misli najgore o ljudskoj prirodi i motivi...\n",
      "2733                     biti odbojan; izazivati averziju\n",
      "2768             odsustvo moralnih ili duhovnih vrednosti\n",
      "2780                     koji nije raspoložen da sarađuje\n",
      "2965                                    moralno iskvariti\n",
      "3592                Biti lažljiv, neiskrene prema nekome.\n",
      "3687                   veoma nesrećan; ispunjen mizerijom\n",
      "4877            Osobina onoga što ne zaslužuje poverenje.\n",
      "Name: X, dtype: object\n",
      "Texts correctly classified as class 1 by the second model but not the first:\n",
      " 417     Koji nije originalan; nije produktivan, ne don...\n",
      "619     koji izaziva iznenađenje, čuđenje ili zadivlje...\n",
      "1373    Ono što nije lako, zahteva veliki fizički ili ...\n",
      "1771    učiniti da neko ili nešto ne bude osetljiv ili...\n",
      "2315      svako odstupanje od zdravog ili normanog stanja\n",
      "4351    Stanje koje karakterišu osećanja u rasponu od ...\n",
      "Name: X, dtype: object\n"
     ]
    }
   ],
   "source": [
    "TestLLM.compare_models(0, \"NEG\", \"BERTic\", \"SRGPT\")"
   ]
  },
  {
   "cell_type": "code",
   "execution_count": 11,
   "id": "0f054f5b-71a1-4a4a-940e-d73845721abb",
   "metadata": {},
   "outputs": [
    {
     "name": "stdout",
     "output_type": "stream",
     "text": [
      "128                         Biti prihvatljiv ili pristao.\n",
      "380            Osećanje samopoštovanja i lične vrednosti.\n",
      "436              koji ohrabruje, odobrava ili zadovoljava\n",
      "812     Kvalitet koji čini daa je nešto poželjno, vred...\n",
      "1135            (za naglašavanje značenja) izuzetno dobro\n",
      "2031            Biti nekome prihvatljiv ili odgovarajući.\n",
      "2269               Osobina onoga što zaslužuje poverenje.\n",
      "3176                               osećanje naklonjenosti\n",
      "3471           radnja koju karakteriše dobro raspoloženje\n",
      "4098                           koji čini ili donosi dobro\n",
      "Name: X, dtype: object\n"
     ]
    }
   ],
   "source": [
    "TestLLM.print_correctly_classified_instances(2, \"POS\" , \"SRGPT\")"
   ]
  },
  {
   "cell_type": "code",
   "execution_count": 12,
   "id": "e2f4c4a9-ee3c-4402-b73b-3740cac1a652",
   "metadata": {},
   "outputs": [
    {
     "name": "stdout",
     "output_type": "stream",
     "text": [
      "76                    osećanje duboke ljubavi i divljenja\n",
      "588     Koji može da čini po slobodnoj volji; koji nij...\n",
      "982     gajiti osećanja dubokog poštovanja i straha pr...\n",
      "1275    kvalitet nečega što je isto po količini, meri,...\n",
      "1290    koji pokazuje ili je motivisan saosećanjem, ra...\n",
      "1864                  osećanje prijateljstva i uvažavanja\n",
      "2056    Osećanja proživljena kada je neko u zadovoljno...\n",
      "2630           koji ispoljava pogodan ili povoljan uticaj\n",
      "2857                           koji lako žali i sažaljeva\n",
      "2879    Osećanje naklonjenosti drugim osobama; uživanj...\n",
      "3179           Osećanje samopoštovanja i lične vrednosti.\n",
      "3481                         koji čini živahnim i veselim\n",
      "3611                        Biti zdrav, osećati se dobro.\n",
      "3675    Onaj koji uživa ili pokazuje radost, zadovoljs...\n",
      "3781                     osećati zadovoljstvo zbog nečega\n",
      "4336    Stanje pozitivnih osećanja, od zadovoljstva do...\n",
      "4509    osobina ljudi da veruju u poštenje i pouzdanos...\n",
      "4649              koji ima urođenu sklonost prema dobroti\n",
      "Name: X, dtype: object\n"
     ]
    }
   ],
   "source": [
    "TestLLM.print_correctly_classified_instances(4, \"POS\" , \"SRGPT\")"
   ]
  },
  {
   "cell_type": "code",
   "execution_count": 13,
   "id": "b3a941fc-32c2-4ba1-b97d-6d02620596e7",
   "metadata": {},
   "outputs": [
    {
     "name": "stdout",
     "output_type": "stream",
     "text": [
      "109        Koji nije popustljiv, kojim se teško upravlja.\n",
      "215                                         Osećati tugu.\n",
      "437                           koji izaziva strah ili užas\n",
      "512     škrtost koja proizilazi iz brige za sopstvenu ...\n",
      "634                      Koji nije naklonjen prea nečemu.\n",
      "635                    onaj koji nije stalan ili postojan\n",
      "638                                      uzrokovati strah\n",
      "778                      koji nije raspoložen da sarađuje\n",
      "828        izuzetno uvredljiv za moral; koji izaziva užas\n",
      "936                          Stanje u kome je neko tužan.\n",
      "1391                Usmrtiti namerno i sa predumišljajem.\n",
      "1688                      Ono što izaziva bol ili patnju.\n",
      "1729                            povrediti nečija osećanja\n",
      "1835          Kvalitet koji ne pruža zadovoljstvo čulima.\n",
      "1846                 svojstvo onoga kome nedostaje živost\n",
      "2418                     biti odbojan; izazivati averziju\n",
      "2479    Slabljenje ili degeneracije, posebno usled nek...\n",
      "2835                          tuga izazvana bolom i tugom\n",
      "2858           stanje bola ili patnje zbog lošeg zdravlja\n",
      "2899    koji oseća ili ispoljava žalost, naročito zbog...\n",
      "2902                                   Koji trpi atrofiju\n",
      "3001    Onaj koji proživljava tugu, žalost ili nezadov...\n",
      "3353    onaj kojem se ne može ukazati poverenje, u kog...\n",
      "3704                                  osećati fizički bol\n",
      "3966             osećanje velike utučenosti i melanholije\n",
      "3987          Koji na sebi ima prljavštinu ili nečistoću.\n",
      "4055    Onemogućen i nije slobodan; ne mpože da deluje...\n",
      "4080              svaka šteta proistekla iz povrede prava\n",
      "4491             odsustvo moralnih ili duhovnih vrednosti\n",
      "4537                                 Koji nije nezavisan.\n",
      "4614      Koji se protivi pravilima ili usvojenoj praksi.\n",
      "Name: X, dtype: object\n"
     ]
    }
   ],
   "source": [
    "TestLLM.print_correctly_classified_instances(4, \"NEG\" , \"SRGPT\")"
   ]
  },
  {
   "cell_type": "code",
   "execution_count": 14,
   "id": "7532c5a2-92f2-423c-a06d-6148efe6db4d",
   "metadata": {},
   "outputs": [
    {
     "name": "stdout",
     "output_type": "stream",
     "text": [
      "[[4921   25]\n",
      " [  54   18]]\n",
      "              precision    recall  f1-score   support\n",
      "\n",
      "           0       0.99      0.99      0.99      4946\n",
      "           1       0.42      0.25      0.31        72\n",
      "\n",
      "    accuracy                           0.98      5018\n",
      "   macro avg       0.70      0.62      0.65      5018\n",
      "weighted avg       0.98      0.98      0.98      5018\n",
      "\n"
     ]
    }
   ],
   "source": [
    "TestLLM.test_model(4, \"POS\", \"SRGPT\")"
   ]
  },
  {
   "cell_type": "code",
   "execution_count": 16,
   "id": "fddcdf9e-834d-4138-9854-d3f7c40cefa2",
   "metadata": {},
   "outputs": [
    {
     "name": "stdout",
     "output_type": "stream",
     "text": [
      "[[4933   13]\n",
      " [  47   25]]\n",
      "              precision    recall  f1-score   support\n",
      "\n",
      "           0       0.99      1.00      0.99      4946\n",
      "           1       0.66      0.35      0.45        72\n",
      "\n",
      "    accuracy                           0.99      5018\n",
      "   macro avg       0.82      0.67      0.72      5018\n",
      "weighted avg       0.99      0.99      0.99      5018\n",
      "\n"
     ]
    }
   ],
   "source": [
    "TestLLM.test_model(4, \"POS\", \"BERTic\")"
   ]
  },
  {
   "cell_type": "code",
   "execution_count": 17,
   "id": "a3965c4c-ad93-4268-84b3-b5decd336c58",
   "metadata": {},
   "outputs": [
    {
     "name": "stdout",
     "output_type": "stream",
     "text": [
      "[[4930   12]\n",
      " [  56   10]]\n",
      "              precision    recall  f1-score   support\n",
      "\n",
      "           0       0.99      1.00      0.99      4942\n",
      "           1       0.45      0.15      0.23        66\n",
      "\n",
      "    accuracy                           0.99      5008\n",
      "   macro avg       0.72      0.57      0.61      5008\n",
      "weighted avg       0.98      0.99      0.98      5008\n",
      "\n"
     ]
    }
   ],
   "source": [
    "TestLLM.test_model(2, \"POS\", \"SRGPT\")"
   ]
  },
  {
   "cell_type": "code",
   "execution_count": 18,
   "id": "16c498f4-73cf-40d3-8281-be062442907c",
   "metadata": {},
   "outputs": [
    {
     "name": "stdout",
     "output_type": "stream",
     "text": [
      "[[4906   32]\n",
      " [  49   31]]\n",
      "              precision    recall  f1-score   support\n",
      "\n",
      "           0       0.99      0.99      0.99      4938\n",
      "           1       0.49      0.39      0.43        80\n",
      "\n",
      "    accuracy                           0.98      5018\n",
      "   macro avg       0.74      0.69      0.71      5018\n",
      "weighted avg       0.98      0.98      0.98      5018\n",
      "\n"
     ]
    }
   ],
   "source": [
    "TestLLM.test_model(4, \"NEG\", \"SRGPT\")"
   ]
  },
  {
   "cell_type": "code",
   "execution_count": 19,
   "id": "1592a823-645a-419d-b922-9cfe41dab8e8",
   "metadata": {},
   "outputs": [
    {
     "name": "stdout",
     "output_type": "stream",
     "text": [
      "[[4912   26]\n",
      " [  28   52]]\n",
      "              precision    recall  f1-score   support\n",
      "\n",
      "           0       0.99      0.99      0.99      4938\n",
      "           1       0.67      0.65      0.66        80\n",
      "\n",
      "    accuracy                           0.99      5018\n",
      "   macro avg       0.83      0.82      0.83      5018\n",
      "weighted avg       0.99      0.99      0.99      5018\n",
      "\n"
     ]
    }
   ],
   "source": [
    "TestLLM.test_model(4, \"NEG\", \"BERTic\")"
   ]
  },
  {
   "cell_type": "code",
   "execution_count": 20,
   "id": "14463e4a-3696-4b58-8704-c8bd056fc047",
   "metadata": {},
   "outputs": [
    {
     "name": "stdout",
     "output_type": "stream",
     "text": [
      "[[4901   31]\n",
      " [  46   30]]\n",
      "              precision    recall  f1-score   support\n",
      "\n",
      "           0       0.99      0.99      0.99      4932\n",
      "           1       0.49      0.39      0.44        76\n",
      "\n",
      "    accuracy                           0.98      5008\n",
      "   macro avg       0.74      0.69      0.72      5008\n",
      "weighted avg       0.98      0.98      0.98      5008\n",
      "\n"
     ]
    }
   ],
   "source": [
    "TestLLM.test_model(2, \"NEG\", \"SRGPT\")"
   ]
  },
  {
   "cell_type": "code",
   "execution_count": null,
   "id": "0b523721-802d-46b9-a847-630beead7a54",
   "metadata": {},
   "outputs": [],
   "source": []
  },
  {
   "cell_type": "code",
   "execution_count": 21,
   "id": "288fb33b-5b98-42e6-a8ce-5b08cd64b034",
   "metadata": {
    "scrolled": true
   },
   "outputs": [
    {
     "name": "stdout",
     "output_type": "stream",
     "text": [
      "Texts misclassified for class 1 by both models:\n",
      " 0                      Od velikog značaja ili važnosti.\n",
      "1                        osoba koja voli ili je voljena\n",
      "2                 angažovati ili unajmiti za neki posao\n",
      "3           preparat koji se koristi za čišćenje nečega\n",
      "4     Ublažavanje patnje; pokazivanje velike dobrote...\n",
      "5                               Čin ili proces merenja.\n",
      "6            sposoban za korektno i validno rezonovanje\n",
      "7             Učiniti svetim pomoću religijskih obreda.\n",
      "8     Čin ukrašavanja nečega (u nadi da će od toga p...\n",
      "9                      Postati stabilan ili stabilniji.\n",
      "10                              Ukazati poverenje kome.\n",
      "11                        Stanje zrelosti; puni razvoj.\n",
      "12                                 Ispuniti očekivanja.\n",
      "13        koji donosi spasenje ili iskupljenje od greha\n",
      "14    Koji karakteriše životinje za razliku od biljaka.\n",
      "15                                  biti privlačan kome\n",
      "16                   Čin kojim se čini neko dobro delo.\n",
      "17                                 postići bod ili cilj\n",
      "18                                       Koji se kreće.\n",
      "19                      Koji stvarno postoji, gzistira.\n",
      "20    Sposobnost da se razume; razumeti i profitirat...\n",
      "21                               kojeg je neko uveselio\n",
      "22       Voljena osoba; koristi se u izrazima od milja.\n",
      "23    briga o razlikovanju dobra i zla ili pravednog...\n",
      "24    Inherentni kompleks atributa koji određuju mor...\n",
      "25    ustanovljeno,zasnovano na zakonu ili na zvanič...\n",
      "26            smanjiti bol ili neprijatnosti ; ublažiti\n",
      "27         Neko višeg ranga ili položaja ili kvaliteta.\n",
      "28    Osnovno osećanje koje se teško definiše ali ko...\n",
      "29                na visokom nivou po rangu ili značaju\n",
      "30    Koji proizvodi ili je sposoban da proizvede na...\n",
      "31    lična sloboda od ropstva, zarobljeništva i ugn...\n",
      "32                                    Spojen ili vezan.\n",
      "33                            i u metaforičkom značenju\n",
      "34         Oslobođen spoljašnje kontrole i ograničenja.\n",
      "35    sposobnost postojanja ili delovanja u harmonič...\n",
      "36    onaj koji je po moralnim kvalitetima ili izgle...\n",
      "37    Stvoriti mišljenje o nečemu; suditi oprezno; n...\n",
      "38        Priroda ili svojstvo onoga ko je emocionalan.\n",
      "39                                  Čin prilaska cilju.\n",
      "40              Potpuno verovanje u osobu ili plan itd.\n",
      "41    učiniti čistim ili slobodnim od greha ili krivice\n",
      "42                         Obezbediti zabavu za nekoga.\n",
      "43                             Zabava koja drži pažnju.\n",
      "Name: X, dtype: object\n",
      "Texts misclassified for class 1 by the first model but not the second:\n",
      " 588     Koji može da čini po slobodnoj volji; koji nij...\n",
      "982     gajiti osećanja dubokog poštovanja i straha pr...\n",
      "1275    kvalitet nečega što je isto po količini, meri,...\n",
      "Name: X, dtype: object\n",
      "Texts misclassified for class 1 by the second model but not the first:\n",
      " 91                                  Učiniti boljim.\n",
      "479                               Veliko bogatstvo.\n",
      "691                      koji čini ili donosi dobro\n",
      "1664         Imati sposobnost ili moć kreativnosti.\n",
      "2746                                 veseo i ozaren\n",
      "2764                 Stav divljenja ili poštovanja.\n",
      "3187                  prijatno i površno uzbuđujući\n",
      "3655       Kvalitet koji pruža zadovoljstvo čulima.\n",
      "4624                   držanje do moralnih principa\n",
      "4953    Biti potpun u svojoj vrsti, bez nedostataka\n",
      "Name: X, dtype: object\n"
     ]
    }
   ],
   "source": [
    "TestLLM.compare_models(4, \"POS\", \"BERTic\", \"SRGPT\", compare_misclassified= True )"
   ]
  },
  {
   "cell_type": "code",
   "execution_count": 22,
   "id": "b45fdfb9-87a7-44f1-a88f-00e838563c02",
   "metadata": {},
   "outputs": [
    {
     "name": "stdout",
     "output_type": "stream",
     "text": [
      "Texts misclassified for class 1 by both models:\n",
      " 0              Radnik koji je najamljen da obavi posao.\n",
      "1                 Umanjiti po vrednosti, karakteru itd.\n",
      "2                      lišiti slobode; držati u zatvoru\n",
      "3        Koji nije vlik po količini, broju ili stepenu.\n",
      "4                                Ljudski čin stvaranja.\n",
      "5     Jako osećanje, usmereno prema nekoj stvarnoj i...\n",
      "6     Bolest krvi ili narušavanje funkcionisanja krv...\n",
      "7     Tih neprekidan nerazumljiv zvuk; obično ga pra...\n",
      "8     (krivično pravo) pravnosnažna,osuđujuća presud...\n",
      "9               osoba ili firma koja zapošljava radnike\n",
      "10               Sastavljati od komponenata ili delova.\n",
      "11                                 Čin prljanja nečega.\n",
      "12    Pričati na besposlen ili neobavezan način sa e...\n",
      "13    Nesposobnost osobe da se seti ili uradi ono št...\n",
      "14      Čin konstruisanja nečega (kao masšinskog dela).\n",
      "15    Koga karakeriše ili koji pokazuje odbijanje, p...\n",
      "16    Stanje stvari koje je skoro izvan nečije moguć...\n",
      "17                                      Ispuštati vonj.\n",
      "18              Ljudska tvorevina koju je neko stvorio.\n",
      "19                     odbaciti (dokument) kao nevažeci\n",
      "20    Kvalitet onoga što je teško otkriti ili analiz...\n",
      "21                             Započeti ili voditi rat.\n",
      "22                                  Postati nestabilan.\n",
      "23                        Proces promene u niže stanje.\n",
      "24          Govoriti nerazgovetno, obično tihim glasom.\n",
      "25                     Stanje kada je učinjen prekršaj.\n",
      "Name: X, dtype: object\n",
      "Texts misclassified for class 1 by the first model but not the second:\n",
      " 638                         uzrokovati strah\n",
      "1846    svojstvo onoga kome nedostaje živost\n",
      "Name: X, dtype: object\n",
      "Texts misclassified for class 1 by the second model but not the first:\n",
      " 276                       Ne osecati se dobro ili udobno.\n",
      "557           pun ili označen ozlojeđenošću ili zlovoljom\n",
      "1206              Uništiti ili oštetiti na nasilan način.\n",
      "1561               protivno zakonu ili zakonom zabranjeno\n",
      "1631              imati neželjene ili negativne kvalitete\n",
      "1902    Tuga povezana sa nekim učinjenim zlom ili neki...\n",
      "2004                Biti lažljiv, neiskrene prema nekome.\n",
      "2365            Posramiti nekoga; povrediti nečiji ponos.\n",
      "2411                    čin namernog odstupanja od istine\n",
      "2610                              tuga izražena plakanjem\n",
      "2856                                      Duboko dirnuti.\n",
      "2917         divljačko i prekomerno ubijanje mnogih ljudi\n",
      "2930                            ispoljavanje rastuženosti\n",
      "3357                                        loše mirisati\n",
      "3455                       koji oseća nadolazeću opasnost\n",
      "3511                               naneti nekome nepravdu\n",
      "3584                              zlonamerno zadovoljstvo\n",
      "4463    Bilo kakva oštetočina na telu izazvana nasilje...\n",
      "4503    Nepravedno postupanje prema nekoj osobi ili gr...\n",
      "4606    Odsustvo kvaliteta koji bi činili nešto vredni...\n",
      "4631    koji misli najgore o ljudskoj prirodi i motivi...\n",
      "4759                      okrutno ili nehumano postupanje\n",
      "4808                               Izazvati ljutnju, bes.\n",
      "Name: X, dtype: object\n"
     ]
    }
   ],
   "source": [
    "TestLLM.compare_models(4, \"NEG\", \"BERTic\", \"SRGPT\", compare_misclassified= True)"
   ]
  },
  {
   "cell_type": "code",
   "execution_count": 23,
   "id": "99dc716b-2aec-4153-a735-c6910662f6e3",
   "metadata": {
    "scrolled": true
   },
   "outputs": [
    {
     "name": "stdout",
     "output_type": "stream",
     "text": [
      "Texts misclassified for class 0 by both models:\n",
      " 0    koji izaziva iznenađenje, čuđenje ili zadivlje...\n",
      "1    koji zaslužuje sažaljenje ili podstiče na saža...\n",
      "2    Onaj koji nema ili ne pokazuje sažaljenje ili ...\n",
      "3                 Ne pridržavanje moralnim principima.\n",
      "4                      Ne osecati se dobro ili udobno.\n",
      "5    Kvalitet nečega što nije adekvatno ili perfektno.\n",
      "6    Kvalitet nekoga ili nečega što nije važno ili ...\n",
      "7    Stanje u kome je neko bogat, ima obilno materi...\n",
      "Name: X, dtype: object\n",
      "Texts misclassified for class 0 by the first model but not the second:\n",
      " 138     Odsustvo kvaliteta koji bi činili nešto vredni...\n",
      "1017                              zlonamerno zadovoljstvo\n",
      "1024                Znanje i vrednosti koje društvo deli.\n",
      "2156                      Kvalitet onog ko nije brižljiv.\n",
      "4737                               nešto što ima vrednost\n",
      "Name: X, dtype: object\n",
      "Texts misclassified for class 0 by the second model but not the first:\n",
      " 225            stanje bola ili patnje zbog lošeg zdravlja\n",
      "459                                   Biti u saglasnosti.\n",
      "1402    Koji nije u skladu sa metodama ili principima ...\n",
      "1438                    Koji je moralno lož ili pogrešan.\n",
      "1533                   Ne ostvariti ni profit ni gubitak.\n",
      "1568                       osobina atraktivno tanke osobe\n",
      "1608                   izuzetno loš ili nezadovoljavajući\n",
      "2091            neprijatno ili razočaravajuće iznenađenje\n",
      "2157                    koji izaziva ili zaslužuje mržnju\n",
      "2289              imati neželjene ili negativne kvalitete\n",
      "2767                 Nešto što se koristi za ulepšavanje.\n",
      "2836                        dostići i eventualno prestići\n",
      "3021                                  Koji nije potreban.\n",
      "3203                     Posedovanje materijalnih dobara.\n",
      "4094    koji se trenutno koristi ili je spreman za upo...\n",
      "4911    rad koji se obavlja sa drugima radi zajedničko...\n",
      "5014     Na primer, o vukanima; koji trajno nije aktivan.\n",
      "Name: X, dtype: object\n"
     ]
    }
   ],
   "source": [
    "TestLLM.compare_models(4, \"POS\", \"BERTic\", \"SRGPT\", compare_misclassified= True, compare_other_class=True)"
   ]
  },
  {
   "cell_type": "code",
   "execution_count": 24,
   "id": "6939f683-7286-46f6-852e-3ba2ebcf207f",
   "metadata": {},
   "outputs": [
    {
     "name": "stdout",
     "output_type": "stream",
     "text": [
      "Texts misclassified for class 0 by both models:\n",
      " 0           nešto što nije sigurno, što je pod sumnjom\n",
      "1            Koji privremeno nije aktivan, o vulkanima\n",
      "2                                  Osoba koje ne radi.\n",
      "3    iznenadni masovni strah i nespokojstvo zbog oč...\n",
      "4                 Ne pridržavanje moralnim principima.\n",
      "5      Koji ne predstavlja teškoću, ne iziskuje napor.\n",
      "Name: X, dtype: object\n",
      "Texts misclassified for class 0 by the first model but not the second:\n",
      " 299                                      Čin zagađivanja.\n",
      "680       koji pobuđuje poštovanje, divljenje ili čuđenje\n",
      "859                 Naljutiti, posebno nevažnim uzrocima.\n",
      "1144                         Prekinuti nečije zaposlenje.\n",
      "2233                                    Učiniti nečistim.\n",
      "3083           Osoba koja krši morlne ili zakonske norme.\n",
      "3134                  brutalan, varvarski i divljački čin\n",
      "3282                                    Čin opstruiranja.\n",
      "3373                                      Učiniti slabim.\n",
      "3401    svako ko veruje da nije u stanju da promeni sv...\n",
      "3836             Ubijanje čoveka od strane drugog čoveka.\n",
      "4348                         čiju smrt nenamerno izazvati\n",
      "4510    obilno krvarenje kao posledica povrede krvnog ...\n",
      "4512                           zloupotreba javne funkcije\n",
      "4629                                          grozničnica\n",
      "4686    Gubitak novca ili smanjenje finansijske vredno...\n",
      "4697                      Čovek koji nema nikakve titule.\n",
      "4707                                      preterano velik\n",
      "4850                                        lišiti života\n",
      "5002                             Stanje bolje od ranijeg.\n",
      "Name: X, dtype: object\n",
      "Texts misclassified for class 0 by the second model but not the first:\n",
      " 10      briga o razlikovanju dobra i zla ili pravednog...\n",
      "37           Koji ima veseo karkater, nije sklon brigama.\n",
      "584     biti u stanju mirovanja; biti u situaciji koja...\n",
      "787     smear with blood, as in a hunting initiation r...\n",
      "795     Oporavak ili način čuvanja od gubitka ili opas...\n",
      "1101                           Pisanje koje nije u stihu.\n",
      "1110    neaktivan vulkan na Siciliji, poslednja erupci...\n",
      "1421          govoriti nerazumljivo u religijskoj ekstazi\n",
      "1471    Proizvesti ili stvoriti proizvod stvoren ljuds...\n",
      "1506    Zaklanjati od opasnosti, povrede, uništenja il...\n",
      "1716    zabranjeno zakonom ili zvanično usvojenim prav...\n",
      "1883       ozloglašenost zbog neke posebne karakteristike\n",
      "2137    Izjaviti za nekoga da nije kriv po krivičnim o...\n",
      "2174                               odbrana protiv gubitka\n",
      "2280    presuda(odluka) da optuženi nije kriv, odluka ...\n",
      "2695    osobina da se radi ono što je ispravno i da se...\n",
      "2908          stanje zatočenosti (obično za kratko vreme)\n",
      "2946    osobina onoga koji ne odustaje od svoje ideje,...\n",
      "2948    Koji je pred erupcijom ili izbacuje lavu (o vu...\n",
      "3171                  Ubiti velik broj ljudi bez razlike.\n",
      "3365                                           rod tuplia\n",
      "3391               Nezavistan, nije spojen ili sjedinjen.\n",
      "3731    koji ima tu funkciju da izvršava planove ili n...\n",
      "4146                               koji nema noge (udove)\n",
      "4205                     Odnos nečega prema nečem drugom.\n",
      "4834                 Koji može da se desi ili da postoji.\n",
      "Name: X, dtype: object\n"
     ]
    }
   ],
   "source": [
    "TestLLM.compare_models(4, \"NEG\", \"BERTic\", \"SRGPT\",  compare_misclassified= True, compare_other_class=True)"
   ]
  },
  {
   "cell_type": "code",
   "execution_count": null,
   "id": "75cd938e-940c-4304-b6f9-8dc0018d4eab",
   "metadata": {},
   "outputs": [],
   "source": []
  },
  {
   "cell_type": "code",
   "execution_count": 25,
   "id": "d4b99d0f-8635-432f-9e0e-d1343851c289",
   "metadata": {
    "scrolled": true
   },
   "outputs": [
    {
     "name": "stdout",
     "output_type": "stream",
     "text": [
      "Texts correctly classified as class 0 by both models:\n",
      " 0         Nešto što je manje od celine ljudske tvorevine.\n",
      "1       Zgrada u kojoj je bar koji ima dozvolu da služ...\n",
      "2       mehanizam odbrane koji se sastoji u usredsređe...\n",
      "3                               usoljena i sušena haringa\n",
      "4       procep na zemljinoj kori (ili površini neke dr...\n",
      "                              ...                        \n",
      "4929    u računarstvu, grafički simbol (obično jendost...\n",
      "4930    Noćni miš iz starog sveta iz roda Apodemus živ...\n",
      "4931    posuđe sastavljeno od kompletnog seta (srebro ...\n",
      "4932                     neko ko daje savete o problemima\n",
      "4933    programske instrukcije zapisane kao ASCII teks...\n",
      "Name: X, Length: 4934, dtype: object\n",
      "Texts correctly classified as class 0 by the first model but not the second:\n",
      " 225            stanje bola ili patnje zbog lošeg zdravlja\n",
      "459                                   Biti u saglasnosti.\n",
      "1402    Koji nije u skladu sa metodama ili principima ...\n",
      "1438                    Koji je moralno lož ili pogrešan.\n",
      "1533                   Ne ostvariti ni profit ni gubitak.\n",
      "1568                       osobina atraktivno tanke osobe\n",
      "1608                   izuzetno loš ili nezadovoljavajući\n",
      "2091            neprijatno ili razočaravajuće iznenađenje\n",
      "2157                    koji izaziva ili zaslužuje mržnju\n",
      "2289              imati neželjene ili negativne kvalitete\n",
      "2767                 Nešto što se koristi za ulepšavanje.\n",
      "2836                        dostići i eventualno prestići\n",
      "3021                                  Koji nije potreban.\n",
      "3203                     Posedovanje materijalnih dobara.\n",
      "4094    koji se trenutno koristi ili je spreman za upo...\n",
      "4911    rad koji se obavlja sa drugima radi zajedničko...\n",
      "5014     Na primer, o vukanima; koji trajno nije aktivan.\n",
      "Name: X, dtype: object\n",
      "Texts correctly classified as class 0 by the second model but not the first:\n",
      " 138     Odsustvo kvaliteta koji bi činili nešto vredni...\n",
      "1017                              zlonamerno zadovoljstvo\n",
      "1024                Znanje i vrednosti koje društvo deli.\n",
      "2156                      Kvalitet onog ko nije brižljiv.\n",
      "4737                               nešto što ima vrednost\n",
      "Name: X, dtype: object\n"
     ]
    }
   ],
   "source": [
    "TestLLM.compare_models(4, \"POS\", \"BERTic\", \"SRGPT\", compare_other_class=True)"
   ]
  },
  {
   "cell_type": "code",
   "execution_count": 26,
   "id": "2bc42bd8-14d0-4e3d-9eea-fa62454715b7",
   "metadata": {},
   "outputs": [
    {
     "name": "stdout",
     "output_type": "stream",
     "text": [
      "Texts correctly classified as class 0 by both models:\n",
      " 0       Prostorno svojstvo: način na koji je nešto sme...\n",
      "1       Republika u severnoj Evropi; stekla nezavisnos...\n",
      "2       Vodozemci samo sa jednim, prednjim parom nogu....\n",
      "3            grupa koralnih ostrva u istočnoj Mikroneziji\n",
      "4       koji je pisan kurzivnom formom staroegipatskog...\n",
      "                              ...                        \n",
      "4941    Vrlo rasprostranjena porodica uglavnom tropsko...\n",
      "4942    elektronski uređaj koji predstavlja informacij...\n",
      "4943                             koji može da se redukuje\n",
      "4944    mesto opremljeno instrumentima za testiranje u...\n",
      "4945                                   deo štampanog rada\n",
      "Name: X, Length: 4946, dtype: object\n",
      "Texts correctly classified as class 0 by the first model but not the second:\n",
      " 10      briga o razlikovanju dobra i zla ili pravednog...\n",
      "37           Koji ima veseo karkater, nije sklon brigama.\n",
      "584     biti u stanju mirovanja; biti u situaciji koja...\n",
      "787     smear with blood, as in a hunting initiation r...\n",
      "795     Oporavak ili način čuvanja od gubitka ili opas...\n",
      "1101                           Pisanje koje nije u stihu.\n",
      "1110    neaktivan vulkan na Siciliji, poslednja erupci...\n",
      "1421          govoriti nerazumljivo u religijskoj ekstazi\n",
      "1471    Proizvesti ili stvoriti proizvod stvoren ljuds...\n",
      "1506    Zaklanjati od opasnosti, povrede, uništenja il...\n",
      "1716    zabranjeno zakonom ili zvanično usvojenim prav...\n",
      "1883       ozloglašenost zbog neke posebne karakteristike\n",
      "2137    Izjaviti za nekoga da nije kriv po krivičnim o...\n",
      "2174                               odbrana protiv gubitka\n",
      "2280    presuda(odluka) da optuženi nije kriv, odluka ...\n",
      "2695    osobina da se radi ono što je ispravno i da se...\n",
      "2908          stanje zatočenosti (obično za kratko vreme)\n",
      "2946    osobina onoga koji ne odustaje od svoje ideje,...\n",
      "2948    Koji je pred erupcijom ili izbacuje lavu (o vu...\n",
      "3171                  Ubiti velik broj ljudi bez razlike.\n",
      "3365                                           rod tuplia\n",
      "3391               Nezavistan, nije spojen ili sjedinjen.\n",
      "3731    koji ima tu funkciju da izvršava planove ili n...\n",
      "4146                               koji nema noge (udove)\n",
      "4205                     Odnos nečega prema nečem drugom.\n",
      "4834                 Koji može da se desi ili da postoji.\n",
      "Name: X, dtype: object\n",
      "Texts correctly classified as class 0 by the second model but not the first:\n",
      " 299                                      Čin zagađivanja.\n",
      "680       koji pobuđuje poštovanje, divljenje ili čuđenje\n",
      "859                 Naljutiti, posebno nevažnim uzrocima.\n",
      "1144                         Prekinuti nečije zaposlenje.\n",
      "2233                                    Učiniti nečistim.\n",
      "3083           Osoba koja krši morlne ili zakonske norme.\n",
      "3134                  brutalan, varvarski i divljački čin\n",
      "3282                                    Čin opstruiranja.\n",
      "3373                                      Učiniti slabim.\n",
      "3401    svako ko veruje da nije u stanju da promeni sv...\n",
      "3836             Ubijanje čoveka od strane drugog čoveka.\n",
      "4348                         čiju smrt nenamerno izazvati\n",
      "4510    obilno krvarenje kao posledica povrede krvnog ...\n",
      "4512                           zloupotreba javne funkcije\n",
      "4629                                          grozničnica\n",
      "4686    Gubitak novca ili smanjenje finansijske vredno...\n",
      "4697                      Čovek koji nema nikakve titule.\n",
      "4707                                      preterano velik\n",
      "4850                                        lišiti života\n",
      "5002                             Stanje bolje od ranijeg.\n",
      "Name: X, dtype: object\n"
     ]
    }
   ],
   "source": [
    "TestLLM.compare_models(4, \"NEG\", \"BERTic\", \"SRGPT\", compare_other_class=True)"
   ]
  },
  {
   "cell_type": "code",
   "execution_count": null,
   "id": "e492f412-95f9-48bc-856d-e65effc1c901",
   "metadata": {},
   "outputs": [],
   "source": []
  },
  {
   "cell_type": "code",
   "execution_count": 27,
   "id": "db645053-f8eb-4ba3-86c7-ee4c6eba3f67",
   "metadata": {},
   "outputs": [
    {
     "name": "stdout",
     "output_type": "stream",
     "text": [
      "[[3963  940]\n",
      " [  46    8]]\n",
      "              precision    recall  f1-score   support\n",
      "\n",
      "           0       0.99      0.81      0.89      4903\n",
      "           1       0.01      0.15      0.02        54\n",
      "\n",
      "    accuracy                           0.80      4957\n",
      "   macro avg       0.50      0.48      0.45      4957\n",
      "weighted avg       0.98      0.80      0.88      4957\n",
      "\n"
     ]
    }
   ],
   "source": [
    "TestLLM.test_model(0, \"NEG\", \"BERTicovo\")"
   ]
  },
  {
   "cell_type": "code",
   "execution_count": 28,
   "id": "3fe1e5d6-d332-4304-8473-f0fd961bf684",
   "metadata": {},
   "outputs": [
    {
     "name": "stdout",
     "output_type": "stream",
     "text": [
      "[[3946  974]\n",
      " [  31    6]]\n",
      "              precision    recall  f1-score   support\n",
      "\n",
      "           0       0.99      0.80      0.89      4920\n",
      "           1       0.01      0.16      0.01        37\n",
      "\n",
      "    accuracy                           0.80      4957\n",
      "   macro avg       0.50      0.48      0.45      4957\n",
      "weighted avg       0.98      0.80      0.88      4957\n",
      "\n"
     ]
    }
   ],
   "source": [
    "TestLLM.test_model(0, \"POS\", \"BERTicovo\")"
   ]
  },
  {
   "cell_type": "code",
   "execution_count": 29,
   "id": "9b5701b9-3573-4ea0-99a0-c8bc77b87062",
   "metadata": {},
   "outputs": [
    {
     "name": "stdout",
     "output_type": "stream",
     "text": [
      "[[3968  964]\n",
      " [  65   11]]\n",
      "              precision    recall  f1-score   support\n",
      "\n",
      "           0       0.98      0.80      0.89      4932\n",
      "           1       0.01      0.14      0.02        76\n",
      "\n",
      "    accuracy                           0.79      5008\n",
      "   macro avg       0.50      0.47      0.45      5008\n",
      "weighted avg       0.97      0.79      0.87      5008\n",
      "\n"
     ]
    }
   ],
   "source": [
    "TestLLM.test_model(2, \"NEG\", \"BERTicovo\")"
   ]
  },
  {
   "cell_type": "code",
   "execution_count": 30,
   "id": "d0a023f5-8043-4b75-8a1e-95855d27adff",
   "metadata": {},
   "outputs": [
    {
     "name": "stdout",
     "output_type": "stream",
     "text": [
      "[[3946  996]\n",
      " [  55   11]]\n",
      "              precision    recall  f1-score   support\n",
      "\n",
      "           0       0.99      0.80      0.88      4942\n",
      "           1       0.01      0.17      0.02        66\n",
      "\n",
      "    accuracy                           0.79      5008\n",
      "   macro avg       0.50      0.48      0.45      5008\n",
      "weighted avg       0.97      0.79      0.87      5008\n",
      "\n"
     ]
    }
   ],
   "source": [
    "TestLLM.test_model(2, \"POS\", \"BERTicovo\")"
   ]
  },
  {
   "cell_type": "code",
   "execution_count": 31,
   "id": "abb9d0ef-0de5-45e7-a5b0-2adf49de94d7",
   "metadata": {},
   "outputs": [
    {
     "name": "stdout",
     "output_type": "stream",
     "text": [
      "[[3969  969]\n",
      " [  63   17]]\n",
      "              precision    recall  f1-score   support\n",
      "\n",
      "           0       0.98      0.80      0.88      4938\n",
      "           1       0.02      0.21      0.03        80\n",
      "\n",
      "    accuracy                           0.79      5018\n",
      "   macro avg       0.50      0.51      0.46      5018\n",
      "weighted avg       0.97      0.79      0.87      5018\n",
      "\n"
     ]
    }
   ],
   "source": [
    "TestLLM.test_model(4, \"NEG\", \"BERTicovo\")"
   ]
  },
  {
   "cell_type": "code",
   "execution_count": 32,
   "id": "cd070001-862c-4966-955a-22ce4112807c",
   "metadata": {},
   "outputs": [
    {
     "name": "stdout",
     "output_type": "stream",
     "text": [
      "[[3968  978]\n",
      " [  57   15]]\n",
      "              precision    recall  f1-score   support\n",
      "\n",
      "           0       0.99      0.80      0.88      4946\n",
      "           1       0.02      0.21      0.03        72\n",
      "\n",
      "    accuracy                           0.79      5018\n",
      "   macro avg       0.50      0.51      0.46      5018\n",
      "weighted avg       0.97      0.79      0.87      5018\n",
      "\n"
     ]
    }
   ],
   "source": [
    "TestLLM.test_model(4, \"POS\", \"BERTicovo\")"
   ]
  },
  {
   "cell_type": "code",
   "execution_count": 33,
   "id": "28719c7f-c158-4de1-a514-aa905409650e",
   "metadata": {},
   "outputs": [
    {
     "name": "stdout",
     "output_type": "stream",
     "text": [
      "[[3993  946]\n",
      " [  65   19]]\n",
      "              precision    recall  f1-score   support\n",
      "\n",
      "           0       0.98      0.81      0.89      4939\n",
      "           1       0.02      0.23      0.04        84\n",
      "\n",
      "    accuracy                           0.80      5023\n",
      "   macro avg       0.50      0.52      0.46      5023\n",
      "weighted avg       0.97      0.80      0.87      5023\n",
      "\n"
     ]
    }
   ],
   "source": [
    "TestLLM.test_model(6, \"NEG\", \"BERTicovo\")"
   ]
  },
  {
   "cell_type": "code",
   "execution_count": 34,
   "id": "15de23c1-885f-4a3d-a37e-18bd6ea9acbc",
   "metadata": {},
   "outputs": [
    {
     "name": "stdout",
     "output_type": "stream",
     "text": [
      "[[3964  986]\n",
      " [  56   17]]\n",
      "              precision    recall  f1-score   support\n",
      "\n",
      "           0       0.99      0.80      0.88      4950\n",
      "           1       0.02      0.23      0.03        73\n",
      "\n",
      "    accuracy                           0.79      5023\n",
      "   macro avg       0.50      0.52      0.46      5023\n",
      "weighted avg       0.97      0.79      0.87      5023\n",
      "\n"
     ]
    }
   ],
   "source": [
    "TestLLM.test_model(6, \"POS\", \"BERTicovo\")"
   ]
  }
 ],
 "metadata": {
  "kernelspec": {
   "display_name": "Python 3 (ipykernel)",
   "language": "python",
   "name": "python3"
  },
  "language_info": {
   "codemirror_mode": {
    "name": "ipython",
    "version": 3
   },
   "file_extension": ".py",
   "mimetype": "text/x-python",
   "name": "python",
   "nbconvert_exporter": "python",
   "pygments_lexer": "ipython3",
   "version": "3.11.4"
  }
 },
 "nbformat": 4,
 "nbformat_minor": 5
}

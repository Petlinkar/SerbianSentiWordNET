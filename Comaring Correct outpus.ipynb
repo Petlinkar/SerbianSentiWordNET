{
 "cells": [
  {
   "cell_type": "code",
   "execution_count": 3,
   "id": "d306a8dd-caaf-496d-adc9-64085f171a27",
   "metadata": {},
   "outputs": [],
   "source": [
    "import TestLLM"
   ]
  },
  {
   "cell_type": "code",
   "execution_count": 13,
   "id": "b74f6c13-8786-4a71-ad9c-c32e8d7f5174",
   "metadata": {},
   "outputs": [
    {
     "name": "stdout",
     "output_type": "stream",
     "text": [
      "215     Kvalitet koji čini daa je nešto poželjno, vred...\n",
      "279                               Visoka vrednost nečega.\n",
      "691     osećati se veselo i biti ispunjen dobrim raspo...\n",
      "833                    kvalitet onoga što ima veliku cenu\n",
      "919                         Biti prihvatljiv ili pristao.\n",
      "951                          koji čini živahnim i veselim\n",
      "970             (za naglašavanje značenja) izuzetno dobro\n",
      "1154             koji ohrabruje, odobrava ili zadovoljava\n",
      "1282    Onaj koji uživa ili pokazuje radost, zadovoljs...\n",
      "1365                                      Upadljiv uspeh.\n",
      "1373           radnja koju karakteriše dobro raspoloženje\n",
      "1771                činjenje dobra; osećaj dobrotvornosti\n",
      "1794    Osobina onog ko je široko prihvaćen i čije se ...\n",
      "2315                             koji donosi dobar profit\n",
      "2581    Jako pozitivno osećanje poštovanja i privrežen...\n",
      "3140                             usrećiti ili zadovoljiti\n",
      "3406         Stanje kada je neko prosperitetan i uspešan.\n",
      "3483    koji oseća ili ispoljava veliko uzbuđenje ili ...\n",
      "3536                                  biti privlačan kome\n",
      "3592           sposoban za korektno i validno rezonovanje\n",
      "3945                                Moralna izvanrednost.\n",
      "4224             Zaokupiti na prijatan ili zabavan način.\n",
      "4351          francuska reč za sreću i dobro raspoloženje\n",
      "4444                           Korisna ili vredna osobina\n",
      "Name: X, dtype: object\n"
     ]
    }
   ],
   "source": [
    "TestLLM.print_correctly_classified_instances(0, \"POS\" , \"BERTic\")"
   ]
  },
  {
   "cell_type": "code",
   "execution_count": 3,
   "id": "259d30ca-0b4a-4414-ad14-3e1b119bab2f",
   "metadata": {},
   "outputs": [
    {
     "name": "stdout",
     "output_type": "stream",
     "text": [
      "691     osećati se veselo i biti ispunjen dobrim raspo...\n",
      "1771                činjenje dobra; osećaj dobrotvornosti\n",
      "2581    Jako pozitivno osećanje poštovanja i privrežen...\n",
      "3140                             usrećiti ili zadovoljiti\n",
      "3592           sposoban za korektno i validno rezonovanje\n",
      "4444                           Korisna ili vredna osobina\n",
      "Name: X, dtype: object\n"
     ]
    }
   ],
   "source": [
    "TestLLM.print_correctly_classified_instances(0, \"POS\" , \"BERTicovo\")"
   ]
  },
  {
   "cell_type": "code",
   "execution_count": 4,
   "id": "52040da3-5afa-42f6-8dc5-60dc5519b0d7",
   "metadata": {},
   "outputs": [
    {
     "name": "stdout",
     "output_type": "stream",
     "text": [
      "99          osobina prefinjene uglađenosti i dobrog ukusa\n",
      "128                         Biti prihvatljiv ili pristao.\n",
      "136         koji donosi spasenje ili iskupljenje od greha\n",
      "380            Osećanje samopoštovanja i lične vrednosti.\n",
      "436              koji ohrabruje, odobrava ili zadovoljava\n",
      "561                 Stanje zadovoljstva jer nema bolesti.\n",
      "584                              koji donosi dobar profit\n",
      "799                    postojan u naklonosti ili odanosti\n",
      "812     Kvalitet koji čini daa je nešto poželjno, vred...\n",
      "1022    Koji ima potrebne sposobnosti, veštinu ili zna...\n",
      "1533                onaj koji poseduje moralne kvalitete;\n",
      "1551           koji ispoljava pogodan ili povoljan uticaj\n",
      "1776     koji pokazuje ili izaziva veselje i zadovoljstvo\n",
      "1807    kvalitet koji ima nešto što ima veliku vrednos...\n",
      "2031            Biti nekome prihvatljiv ili odgovarajući.\n",
      "2269               Osobina onoga što zaslužuje poverenje.\n",
      "2558                                 blagonaklona procena\n",
      "2831                     osećati zadovoljstvo zbog nečega\n",
      "3176                               osećanje naklonjenosti\n",
      "3291      preuveličano osećanje blagostanja ili ushićenja\n",
      "3356                         koji čini živahnim i veselim\n",
      "3440                     Od velikog značaja ili važnosti.\n",
      "3461          Biti potpun u svojoj vrsti, bez nedostataka\n",
      "3471           radnja koju karakteriše dobro raspoloženje\n",
      "4098                           koji čini ili donosi dobro\n",
      "4496                na visokom nivou po rangu ili značaju\n",
      "4784    Koji ushićuje čula, uzbuđuje duh ili izaziva e...\n",
      "4949    koji je oslobođen stresa ili pogoduje mentalno...\n",
      "Name: X, dtype: object\n"
     ]
    }
   ],
   "source": [
    "TestLLM.print_correctly_classified_instances(2, \"POS\" , \"BERTic\")"
   ]
  },
  {
   "cell_type": "code",
   "execution_count": 6,
   "id": "decd6cd7-2b20-4606-8bc4-9cef1fd8c35b",
   "metadata": {},
   "outputs": [
    {
     "name": "stdout",
     "output_type": "stream",
     "text": [
      "99          osobina prefinjene uglađenosti i dobrog ukusa\n",
      "1148    briga o razlikovanju dobra i zla ili pravednog...\n",
      "1807    kvalitet koji ima nešto što ima veliku vrednos...\n",
      "1856    Osećanje naklonjenosti drugim osobama; uživanj...\n",
      "2558                                 blagonaklona procena\n",
      "2831                     osećati zadovoljstvo zbog nečega\n",
      "3176                               osećanje naklonjenosti\n",
      "3291      preuveličano osećanje blagostanja ili ushićenja\n",
      "3513    Koji je pred erupcijom ili izbacuje lavu (o vu...\n",
      "3999                                   prijateljska narav\n",
      "4423                                 postići bod ili cilj\n",
      "Name: X, dtype: object\n"
     ]
    }
   ],
   "source": [
    "TestLLM.print_correctly_classified_instances(2, \"POS\" , \"BERTicovo\")"
   ]
  },
  {
   "cell_type": "code",
   "execution_count": 7,
   "id": "3adb77a9-a1ce-4be4-9eb9-9c4655e46e43",
   "metadata": {},
   "outputs": [
    {
     "data": {
      "application/vnd.jupyter.widget-view+json": {
       "model_id": "cc78abbbc0124ae496ea2983631e37d2",
       "version_major": 2,
       "version_minor": 0
      },
      "text/plain": [
       "Downloading (…)lve/main/config.json:   0%|          | 0.00/922 [00:00<?, ?B/s]"
      ]
     },
     "metadata": {},
     "output_type": "display_data"
    },
    {
     "name": "stderr",
     "output_type": "stream",
     "text": [
      "C:\\ProgramData\\anaconda3\\envs\\ML\\Lib\\site-packages\\huggingface_hub\\file_download.py:133: UserWarning: `huggingface_hub` cache-system uses symlinks by default to efficiently store duplicated files but your machine does not support them in C:\\Users\\sasa5\\.cache\\huggingface\\hub. Caching files will still work but in a degraded version that might require more space on your disk. This warning can be disabled by setting the `HF_HUB_DISABLE_SYMLINKS_WARNING` environment variable. For more details, see https://huggingface.co/docs/huggingface_hub/how-to-cache#limitations.\n",
      "To support symlinks on Windows, you either need to activate Developer Mode or to run Python as an administrator. In order to see activate developer mode, see this article: https://docs.microsoft.com/en-us/windows/apps/get-started/enable-your-device-for-development\n",
      "  warnings.warn(message)\n"
     ]
    },
    {
     "data": {
      "application/vnd.jupyter.widget-view+json": {
       "model_id": "0f7940f9c0224e40a68faa354522059e",
       "version_major": 2,
       "version_minor": 0
      },
      "text/plain": [
       "Downloading pytorch_model.bin:   0%|          | 0.00/443M [00:00<?, ?B/s]"
      ]
     },
     "metadata": {},
     "output_type": "display_data"
    },
    {
     "data": {
      "application/vnd.jupyter.widget-view+json": {
       "model_id": "1af031a0fc504780a1be543942efcbb0",
       "version_major": 2,
       "version_minor": 0
      },
      "text/plain": [
       "Downloading (…)okenizer_config.json:   0%|          | 0.00/389 [00:00<?, ?B/s]"
      ]
     },
     "metadata": {},
     "output_type": "display_data"
    },
    {
     "data": {
      "application/vnd.jupyter.widget-view+json": {
       "model_id": "08782f0b50f0411187980ab5018438ff",
       "version_major": 2,
       "version_minor": 0
      },
      "text/plain": [
       "Downloading (…)solve/main/vocab.txt:   0%|          | 0.00/231k [00:00<?, ?B/s]"
      ]
     },
     "metadata": {},
     "output_type": "display_data"
    },
    {
     "data": {
      "application/vnd.jupyter.widget-view+json": {
       "model_id": "6071e0d5fd8f4854afeecd2112eb0f2f",
       "version_major": 2,
       "version_minor": 0
      },
      "text/plain": [
       "Downloading (…)/main/tokenizer.json:   0%|          | 0.00/734k [00:00<?, ?B/s]"
      ]
     },
     "metadata": {},
     "output_type": "display_data"
    },
    {
     "data": {
      "application/vnd.jupyter.widget-view+json": {
       "model_id": "bdd269262b984affa1c70adf813240da",
       "version_major": 2,
       "version_minor": 0
      },
      "text/plain": [
       "Downloading (…)cial_tokens_map.json:   0%|          | 0.00/125 [00:00<?, ?B/s]"
      ]
     },
     "metadata": {},
     "output_type": "display_data"
    },
    {
     "name": "stdout",
     "output_type": "stream",
     "text": [
      "Series([], Name: X, dtype: object)\n"
     ]
    }
   ],
   "source": [
    "TestLLM.print_correctly_classified_instances(4, \"POS\" , \"BERTic\")"
   ]
  },
  {
   "cell_type": "code",
   "execution_count": 8,
   "id": "7d4fe2cb-d031-4890-9300-c5b3f323d79f",
   "metadata": {},
   "outputs": [
    {
     "name": "stdout",
     "output_type": "stream",
     "text": [
      "76                    osećanje duboke ljubavi i divljenja\n",
      "975           preparat koji se koristi za čišćenje nečega\n",
      "1450           sposoban za korektno i validno rezonovanje\n",
      "1530    Čin ukrašavanja nečega (u nadi da će od toga p...\n",
      "1864                  osećanje prijateljstva i uvažavanja\n",
      "2461                                 postići bod ili cilj\n",
      "2746                                       veseo i ozaren\n",
      "2879    Osećanje naklonjenosti drugim osobama; uživanj...\n",
      "2891                               kojeg je neko uveselio\n",
      "3024    briga o razlikovanju dobra i zla ili pravednog...\n",
      "3544            smanjiti bol ili neprijatnosti ; ublažiti\n",
      "3781                     osećati zadovoljstvo zbog nečega\n",
      "4509    osobina ljudi da veruju u poštenje i pouzdanos...\n",
      "4624                         držanje do moralnih principa\n",
      "4750    učiniti čistim ili slobodnim od greha ili krivice\n",
      "Name: X, dtype: object\n"
     ]
    }
   ],
   "source": [
    "TestLLM.print_correctly_classified_instances(4, \"POS\" , \"BERTicovo\")"
   ]
  },
  {
   "cell_type": "code",
   "execution_count": 3,
   "id": "3bd91502-3d59-40d2-bbf4-24aaaef4edd0",
   "metadata": {},
   "outputs": [
    {
     "name": "stderr",
     "output_type": "stream",
     "text": [
      "Xformers is not installed correctly. If you want to use memory_efficient_attention to accelerate training use the following command to install Xformers\n",
      "pip install xformers.\n"
     ]
    },
    {
     "name": "stdout",
     "output_type": "stream",
     "text": [
      "Texts correctly classified by both models:\n",
      " 0    osećati se veselo i biti ispunjen dobrim raspo...\n",
      "1                činjenje dobra; osećaj dobrotvornosti\n",
      "2    Jako pozitivno osećanje poštovanja i privrežen...\n",
      "3                             usrećiti ili zadovoljiti\n",
      "4                           Korisna ili vredna osobina\n",
      "Name: X, dtype: object\n",
      "Texts correctly classified by the first model but not the second:\n",
      " 215     Kvalitet koji čini daa je nešto poželjno, vred...\n",
      "521     Koji ima ili ukazuje na dobro zdravlje tela il...\n",
      "533                   stanje bez oštećenja ili propadanja\n",
      "919                         Biti prihvatljiv ili pristao.\n",
      "951                          koji čini živahnim i veselim\n",
      "1154             koji ohrabruje, odobrava ili zadovoljava\n",
      "1282    Onaj koji uživa ili pokazuje radost, zadovoljs...\n",
      "1365                                      Upadljiv uspeh.\n",
      "1373           radnja koju karakteriše dobro raspoloženje\n",
      "2315                             koji donosi dobar profit\n",
      "2383    koji je oslobođen stresa ili pogoduje mentalno...\n",
      "3406         Stanje kada je neko prosperitetan i uspešan.\n",
      "3483    koji oseća ili ispoljava veliko uzbuđenje ili ...\n",
      "3536                                  biti privlačan kome\n",
      "3945                                Moralna izvanrednost.\n",
      "4224             Zaokupiti na prijatan ili zabavan način.\n",
      "4351          francuska reč za sreću i dobro raspoloženje\n",
      "Name: X, dtype: object\n",
      "Texts correctly classified by the second model but not the first:\n",
      " 3592    sposoban za korektno i validno rezonovanje\n",
      "Name: X, dtype: object\n"
     ]
    }
   ],
   "source": [
    "TestLLM.compare_models(0, \"POS\", \"BERTic\", \"BERTicovo\")"
   ]
  },
  {
   "cell_type": "code",
   "execution_count": 4,
   "id": "ee7ed086-db22-444f-b32c-35ddfb53b6c4",
   "metadata": {},
   "outputs": [
    {
     "name": "stdout",
     "output_type": "stream",
     "text": [
      "Texts correctly classified by both models:\n",
      " 0                    osoba koja ne prihvata nove ideje\n",
      "1                                 intenzivna ojađenost\n",
      "2                              uopštenih osećanja tuge\n",
      "3               žalostan zbog gubitka ili uskraćenosti\n",
      "4             odsustvo moralnih ili duhovnih vrednosti\n",
      "5    iznenadno stanje žestoke emocionalne uznemiren...\n",
      "6                    nedolično ili nemoralno ponašanje\n",
      "Name: X, dtype: object\n",
      "Texts correctly classified by the first model but not the second:\n",
      " 215     Kvalitet nečega što nije adekvatno ili perfektno.\n",
      "417     Koji nije originalan; nije produktivan, ne don...\n",
      "614             Posramiti nekoga; povrediti nečiji ponos.\n",
      "833                       Kvalitet onog ko nije brižljiv.\n",
      "919     koji zaslužuje sažaljenje ili podstiče na saža...\n",
      "951                 nenormalna depresija i nezadovoljstvo\n",
      "996     onaj kojem se ne može ukazati poverenje, u kog...\n",
      "1154    Stanje u kome čovek ne može da funkcioniše nor...\n",
      "1282    Koji više nema životne funkcije (ili bar tako ...\n",
      "1347    nejasno i neprijatno osećanje koje se ima u iš...\n",
      "1356              Smatrati da je nešto loše ili pogrešno.\n",
      "1365                 koji odražava sumornost i smrknutost\n",
      "1373    Ono što nije lako, zahteva veliki fizički ili ...\n",
      "1387                      okrutno ili nehumano postupanje\n",
      "1454    koji misli najgore o ljudskoj prirodi i motivi...\n",
      "1658                          tuga izazvana bolom i tugom\n",
      "2383                      Uzrok velikih patnji i nesreće.\n",
      "2464    Intenzivno ili preterano loš ili neprijatan po...\n",
      "2581                                  neprijateljski stav\n",
      "2733                     biti odbojan; izazivati averziju\n",
      "2780                     koji nije raspoložen da sarađuje\n",
      "3073    mentalno uznemiren zbog moguće nesreće ili opa...\n",
      "3406    koji je označen beznadežnošću ili ispoljava be...\n",
      "3536    Kvalitet nekog ili nečega što ima slabiju ili ...\n",
      "3592                Biti lažljiv, neiskrene prema nekome.\n",
      "3599                                 okarakterisan zlobom\n",
      "3687                   veoma nesrećan; ispunjen mizerijom\n",
      "3764                   izuzetno loš ili nezadovoljavajući\n",
      "3806             Prolivati suze zbog tuge, besa ili bola.\n",
      "3945    Koji nema potrebne sposobnosti, veštinu ili zn...\n",
      "4319    koji izaziva neprijatnost; na primer, neprijat...\n",
      "4351    Stanje koje karakterišu osećanja u rasponu od ...\n",
      "4444                Stanje koje još ne odgovara zrelosti.\n",
      "4877            Osobina onoga što ne zaslužuje poverenje.\n",
      "Name: X, dtype: object\n",
      "Texts correctly classified by the second model but not the first:\n",
      " 1407    zlonamerno zadovoljstvo\n",
      "Name: X, dtype: object\n"
     ]
    }
   ],
   "source": [
    "TestLLM.compare_models(0, \"NEG\", \"BERTic\", \"BERTicovo\")"
   ]
  },
  {
   "cell_type": "code",
   "execution_count": 6,
   "id": "1fcae7df-61d2-4bec-b0db-e66d62dbbeb1",
   "metadata": {},
   "outputs": [
    {
     "data": {
      "application/vnd.jupyter.widget-view+json": {
       "model_id": "f371310e709244e69c158c415feda54a",
       "version_major": 2,
       "version_minor": 0
      },
      "text/plain": [
       "Downloading (…)lve/main/config.json:   0%|          | 0.00/1.11k [00:00<?, ?B/s]"
      ]
     },
     "metadata": {},
     "output_type": "display_data"
    },
    {
     "name": "stderr",
     "output_type": "stream",
     "text": [
      "C:\\ProgramData\\anaconda3\\envs\\ML\\Lib\\site-packages\\huggingface_hub\\file_download.py:133: UserWarning: `huggingface_hub` cache-system uses symlinks by default to efficiently store duplicated files but your machine does not support them in C:\\Users\\sasa5\\.cache\\huggingface\\hub. Caching files will still work but in a degraded version that might require more space on your disk. This warning can be disabled by setting the `HF_HUB_DISABLE_SYMLINKS_WARNING` environment variable. For more details, see https://huggingface.co/docs/huggingface_hub/how-to-cache#limitations.\n",
      "To support symlinks on Windows, you either need to activate Developer Mode or to run Python as an administrator. In order to see activate developer mode, see this article: https://docs.microsoft.com/en-us/windows/apps/get-started/enable-your-device-for-development\n",
      "  warnings.warn(message)\n"
     ]
    },
    {
     "data": {
      "application/vnd.jupyter.widget-view+json": {
       "model_id": "b29b462b325c40fe9ca437154b75acb1",
       "version_major": 2,
       "version_minor": 0
      },
      "text/plain": [
       "Downloading pytorch_model.bin:   0%|          | 0.00/3.09G [00:00<?, ?B/s]"
      ]
     },
     "metadata": {},
     "output_type": "display_data"
    },
    {
     "data": {
      "application/vnd.jupyter.widget-view+json": {
       "model_id": "d14742be8a35454cb8f59eb0a4d7b855",
       "version_major": 2,
       "version_minor": 0
      },
      "text/plain": [
       "Downloading (…)okenizer_config.json:   0%|          | 0.00/261 [00:00<?, ?B/s]"
      ]
     },
     "metadata": {},
     "output_type": "display_data"
    },
    {
     "data": {
      "application/vnd.jupyter.widget-view+json": {
       "model_id": "53448fb1f4a444d7aaddc8519e27cb7f",
       "version_major": 2,
       "version_minor": 0
      },
      "text/plain": [
       "Downloading (…)olve/main/vocab.json:   0%|          | 0.00/832k [00:00<?, ?B/s]"
      ]
     },
     "metadata": {},
     "output_type": "display_data"
    },
    {
     "data": {
      "application/vnd.jupyter.widget-view+json": {
       "model_id": "eb47e7b2591a437d95d516b8982b6858",
       "version_major": 2,
       "version_minor": 0
      },
      "text/plain": [
       "Downloading (…)olve/main/merges.txt:   0%|          | 0.00/498k [00:00<?, ?B/s]"
      ]
     },
     "metadata": {},
     "output_type": "display_data"
    },
    {
     "data": {
      "application/vnd.jupyter.widget-view+json": {
       "model_id": "5125c9e900a1473899e9c7b7455e0f4d",
       "version_major": 2,
       "version_minor": 0
      },
      "text/plain": [
       "Downloading (…)/main/tokenizer.json:   0%|          | 0.00/2.17M [00:00<?, ?B/s]"
      ]
     },
     "metadata": {},
     "output_type": "display_data"
    },
    {
     "data": {
      "application/vnd.jupyter.widget-view+json": {
       "model_id": "44cb46d3d775496580252e2ff7122733",
       "version_major": 2,
       "version_minor": 0
      },
      "text/plain": [
       "Downloading (…)in/added_tokens.json:   0%|          | 0.00/29.0 [00:00<?, ?B/s]"
      ]
     },
     "metadata": {},
     "output_type": "display_data"
    },
    {
     "data": {
      "application/vnd.jupyter.widget-view+json": {
       "model_id": "ebf09467d35e463fb535b6ca72ccd3b5",
       "version_major": 2,
       "version_minor": 0
      },
      "text/plain": [
       "Downloading (…)cial_tokens_map.json:   0%|          | 0.00/99.0 [00:00<?, ?B/s]"
      ]
     },
     "metadata": {},
     "output_type": "display_data"
    },
    {
     "name": "stdout",
     "output_type": "stream",
     "text": [
      "Texts correctly classified by both models:\n",
      " 0     Kvalitet nečega što nije adekvatno ili perfektno.\n",
      "1     Koji nije originalan; nije produktivan, ne don...\n",
      "2                       Kvalitet onog ko nije brižljiv.\n",
      "3     koji zaslužuje sažaljenje ili podstiče na saža...\n",
      "4     Stanje u kome čovek ne može da funkcioniše nor...\n",
      "5                           tuga izazvana bolom i tugom\n",
      "6     Intenzivno ili preterano loš ili neprijatan po...\n",
      "7     mentalno uznemiren zbog moguće nesreće ili opa...\n",
      "8     koji je označen beznadežnošću ili ispoljava be...\n",
      "9                     nedolično ili nemoralno ponašanje\n",
      "10                                 okarakterisan zlobom\n",
      "11                   veoma nesrećan; ispunjen mizerijom\n",
      "12                   izuzetno loš ili nezadovoljavajući\n",
      "13             Prolivati suze zbog tuge, besa ili bola.\n",
      "14    Koji nema potrebne sposobnosti, veštinu ili zn...\n",
      "15    koji izaziva neprijatnost; na primer, neprijat...\n",
      "16    Stanje koje karakterišu osećanja u rasponu od ...\n",
      "Name: X, dtype: object\n",
      "Texts correctly classified by the first model but not the second:\n",
      " 279                     osoba koja ne prihvata nove ideje\n",
      "533                                  intenzivna ojađenost\n",
      "614             Posramiti nekoga; povrediti nečiji ponos.\n",
      "951                 nenormalna depresija i nezadovoljstvo\n",
      "970                               uopštenih osećanja tuge\n",
      "996     onaj kojem se ne može ukazati poverenje, u kog...\n",
      "1282    Koji više nema životne funkcije (ili bar tako ...\n",
      "1347    nejasno i neprijatno osećanje koje se ima u iš...\n",
      "1356              Smatrati da je nešto loše ili pogrešno.\n",
      "1365                 koji odražava sumornost i smrknutost\n",
      "1373    Ono što nije lako, zahteva veliki fizički ili ...\n",
      "1387                      okrutno ili nehumano postupanje\n",
      "1454    koji misli najgore o ljudskoj prirodi i motivi...\n",
      "2277               žalostan zbog gubitka ili uskraćenosti\n",
      "2383                      Uzrok velikih patnji i nesreće.\n",
      "2581                                  neprijateljski stav\n",
      "2733                     biti odbojan; izazivati averziju\n",
      "2768             odsustvo moralnih ili duhovnih vrednosti\n",
      "2780                     koji nije raspoložen da sarađuje\n",
      "3047    iznenadno stanje žestoke emocionalne uznemiren...\n",
      "3536    Kvalitet nekog ili nečega što ima slabiju ili ...\n",
      "3592                Biti lažljiv, neiskrene prema nekome.\n",
      "4444                Stanje koje još ne odgovara zrelosti.\n",
      "4877            Osobina onoga što ne zaslužuje poverenje.\n",
      "Name: X, dtype: object\n",
      "Texts correctly classified by the second model but not the first:\n",
      " 159    Odgovor telesnog tkiva na povredu ili nadržaj;...\n",
      "619    koji izaziva iznenađenje, čuđenje ili zadivlje...\n",
      "Name: X, dtype: object\n"
     ]
    }
   ],
   "source": [
    "TestLLM.compare_models(0, \"NEG\", \"BERTic\", \"SRGPT\")"
   ]
  },
  {
   "cell_type": "code",
   "execution_count": 5,
   "id": "0f054f5b-71a1-4a4a-940e-d73845721abb",
   "metadata": {},
   "outputs": [
    {
     "name": "stdout",
     "output_type": "stream",
     "text": [
      "Series([], Name: X, dtype: object)\n"
     ]
    }
   ],
   "source": [
    "TestLLM.print_correctly_classified_instances(2, \"POS\" , \"SRBGPT\")"
   ]
  },
  {
   "cell_type": "code",
   "execution_count": 8,
   "id": "e2f4c4a9-ee3c-4402-b73b-3740cac1a652",
   "metadata": {},
   "outputs": [
    {
     "data": {
      "application/vnd.jupyter.widget-view+json": {
       "model_id": "2266ccdd55314ce4abd701a944771641",
       "version_major": 2,
       "version_minor": 0
      },
      "text/plain": [
       "Downloading (…)lve/main/config.json:   0%|          | 0.00/1.11k [00:00<?, ?B/s]"
      ]
     },
     "metadata": {},
     "output_type": "display_data"
    },
    {
     "data": {
      "application/vnd.jupyter.widget-view+json": {
       "model_id": "bc8b935d671c4a6b939aa22620093449",
       "version_major": 2,
       "version_minor": 0
      },
      "text/plain": [
       "Downloading pytorch_model.bin:   0%|          | 0.00/3.09G [00:00<?, ?B/s]"
      ]
     },
     "metadata": {},
     "output_type": "display_data"
    },
    {
     "data": {
      "application/vnd.jupyter.widget-view+json": {
       "model_id": "4d644bfd184c444c98f347122b96c08c",
       "version_major": 2,
       "version_minor": 0
      },
      "text/plain": [
       "Downloading (…)/main/tokenizer.json:   0%|          | 0.00/2.17M [00:00<?, ?B/s]"
      ]
     },
     "metadata": {},
     "output_type": "display_data"
    },
    {
     "name": "stdout",
     "output_type": "stream",
     "text": [
      "76                    osećanje duboke ljubavi i divljenja\n",
      "588     Koji može da čini po slobodnoj volji; koji nij...\n",
      "982     gajiti osećanja dubokog poštovanja i straha pr...\n",
      "1275    kvalitet nečega što je isto po količini, meri,...\n",
      "1290    koji pokazuje ili je motivisan saosećanjem, ra...\n",
      "1864                  osećanje prijateljstva i uvažavanja\n",
      "2056    Osećanja proživljena kada je neko u zadovoljno...\n",
      "2630           koji ispoljava pogodan ili povoljan uticaj\n",
      "2857                           koji lako žali i sažaljeva\n",
      "2879    Osećanje naklonjenosti drugim osobama; uživanj...\n",
      "3179           Osećanje samopoštovanja i lične vrednosti.\n",
      "3481                         koji čini živahnim i veselim\n",
      "3611                        Biti zdrav, osećati se dobro.\n",
      "3675    Onaj koji uživa ili pokazuje radost, zadovoljs...\n",
      "3781                     osećati zadovoljstvo zbog nečega\n",
      "4336    Stanje pozitivnih osećanja, od zadovoljstva do...\n",
      "4509    osobina ljudi da veruju u poštenje i pouzdanos...\n",
      "4649              koji ima urođenu sklonost prema dobroti\n",
      "Name: X, dtype: object\n"
     ]
    }
   ],
   "source": [
    "TestLLM.print_correctly_classified_instances(4, \"POS\" , \"SRBGPT\")"
   ]
  },
  {
   "cell_type": "code",
   "execution_count": 10,
   "id": "b3a941fc-32c2-4ba1-b97d-6d02620596e7",
   "metadata": {},
   "outputs": [
    {
     "data": {
      "application/vnd.jupyter.widget-view+json": {
       "model_id": "24fa823a224348508e9876d7db969efb",
       "version_major": 2,
       "version_minor": 0
      },
      "text/plain": [
       "Downloading (…)lve/main/config.json:   0%|          | 0.00/1.06k [00:00<?, ?B/s]"
      ]
     },
     "metadata": {},
     "output_type": "display_data"
    },
    {
     "data": {
      "application/vnd.jupyter.widget-view+json": {
       "model_id": "67fc048f1a794799b605883a89f7b1f1",
       "version_major": 2,
       "version_minor": 0
      },
      "text/plain": [
       "Downloading pytorch_model.bin:   0%|          | 0.00/3.09G [00:00<?, ?B/s]"
      ]
     },
     "metadata": {},
     "output_type": "display_data"
    },
    {
     "data": {
      "application/vnd.jupyter.widget-view+json": {
       "model_id": "a563014124584115b5f1297177abc880",
       "version_major": 2,
       "version_minor": 0
      },
      "text/plain": [
       "Downloading (…)okenizer_config.json:   0%|          | 0.00/261 [00:00<?, ?B/s]"
      ]
     },
     "metadata": {},
     "output_type": "display_data"
    },
    {
     "data": {
      "application/vnd.jupyter.widget-view+json": {
       "model_id": "00afa4072798441893125e98907e9b84",
       "version_major": 2,
       "version_minor": 0
      },
      "text/plain": [
       "Downloading (…)olve/main/vocab.json:   0%|          | 0.00/832k [00:00<?, ?B/s]"
      ]
     },
     "metadata": {},
     "output_type": "display_data"
    },
    {
     "data": {
      "application/vnd.jupyter.widget-view+json": {
       "model_id": "c2d4f4aff4de400d8e6459a24c89eeea",
       "version_major": 2,
       "version_minor": 0
      },
      "text/plain": [
       "Downloading (…)olve/main/merges.txt:   0%|          | 0.00/498k [00:00<?, ?B/s]"
      ]
     },
     "metadata": {},
     "output_type": "display_data"
    },
    {
     "data": {
      "application/vnd.jupyter.widget-view+json": {
       "model_id": "c592989818d14fceaee52b9a7a7a93bd",
       "version_major": 2,
       "version_minor": 0
      },
      "text/plain": [
       "Downloading (…)/main/tokenizer.json:   0%|          | 0.00/2.17M [00:00<?, ?B/s]"
      ]
     },
     "metadata": {},
     "output_type": "display_data"
    },
    {
     "data": {
      "application/vnd.jupyter.widget-view+json": {
       "model_id": "1724312a5a954b48823427a75ab3a8cf",
       "version_major": 2,
       "version_minor": 0
      },
      "text/plain": [
       "Downloading (…)in/added_tokens.json:   0%|          | 0.00/29.0 [00:00<?, ?B/s]"
      ]
     },
     "metadata": {},
     "output_type": "display_data"
    },
    {
     "data": {
      "application/vnd.jupyter.widget-view+json": {
       "model_id": "f036d031418b4c08a805fab564b24756",
       "version_major": 2,
       "version_minor": 0
      },
      "text/plain": [
       "Downloading (…)cial_tokens_map.json:   0%|          | 0.00/99.0 [00:00<?, ?B/s]"
      ]
     },
     "metadata": {},
     "output_type": "display_data"
    },
    {
     "name": "stdout",
     "output_type": "stream",
     "text": [
      "215                                         Osećati tugu.\n",
      "276                       Ne osecati se dobro ili udobno.\n",
      "437                           koji izaziva strah ili užas\n",
      "557           pun ili označen ozlojeđenošću ili zlovoljom\n",
      "635                    onaj koji nije stalan ili postojan\n",
      "638                                      uzrokovati strah\n",
      "734                 Umanjiti po vrednosti, karakteru itd.\n",
      "778                      koji nije raspoložen da sarađuje\n",
      "936                          Stanje u kome je neko tužan.\n",
      "1387                               Ljudski čin stvaranja.\n",
      "1561               protivno zakonu ili zakonom zabranjeno\n",
      "1631              imati neželjene ili negativne kvalitete\n",
      "1688                      Ono što izaziva bol ili patnju.\n",
      "1729                            povrediti nečija osećanja\n",
      "1835          Kvalitet koji ne pruža zadovoljstvo čulima.\n",
      "1846                 svojstvo onoga kome nedostaje živost\n",
      "2004                Biti lažljiv, neiskrene prema nekome.\n",
      "2289              osoba ili firma koja zapošljava radnike\n",
      "2365            Posramiti nekoga; povrediti nečiji ponos.\n",
      "2411                    čin namernog odstupanja od istine\n",
      "2610                              tuga izražena plakanjem\n",
      "2802                                 Čin prljanja nečega.\n",
      "2835                          tuga izazvana bolom i tugom\n",
      "2856                                      Duboko dirnuti.\n",
      "2858           stanje bola ili patnje zbog lošeg zdravlja\n",
      "2899    koji oseća ili ispoljava žalost, naročito zbog...\n",
      "2902                                   Koji trpi atrofiju\n",
      "2917         divljačko i prekomerno ubijanje mnogih ljudi\n",
      "2930                            ispoljavanje rastuženosti\n",
      "3357                                        loše mirisati\n",
      "3455                       koji oseća nadolazeću opasnost\n",
      "3511                               naneti nekome nepravdu\n",
      "3532      Čin konstruisanja nečega (kao masšinskog dela).\n",
      "3584                              zlonamerno zadovoljstvo\n",
      "3704                                  osećati fizički bol\n",
      "3751                                      Ispuštati vonj.\n",
      "3785              Ljudska tvorevina koju je neko stvorio.\n",
      "3913                     odbaciti (dokument) kao nevažeci\n",
      "3966             osećanje velike utučenosti i melanholije\n",
      "4080              svaka šteta proistekla iz povrede prava\n",
      "4491             odsustvo moralnih ili duhovnih vrednosti\n",
      "4543                                  Postati nestabilan.\n",
      "4759                      okrutno ili nehumano postupanje\n",
      "4933          Govoriti nerazgovetno, obično tihim glasom.\n",
      "Name: X, dtype: object\n"
     ]
    }
   ],
   "source": [
    "TestLLM.print_correctly_classified_instances(4, \"NEG\" , \"SRBGPT\")"
   ]
  },
  {
   "cell_type": "code",
   "execution_count": 6,
   "id": "288fb33b-5b98-42e6-a8ce-5b08cd64b034",
   "metadata": {},
   "outputs": [
    {
     "data": {
      "application/vnd.jupyter.widget-view+json": {
       "model_id": "f255986ab1ef4e8f9b7b216e050948fe",
       "version_major": 2,
       "version_minor": 0
      },
      "text/plain": [
       "Downloading (…)lve/main/config.json:   0%|          | 0.00/972 [00:00<?, ?B/s]"
      ]
     },
     "metadata": {},
     "output_type": "display_data"
    },
    {
     "data": {
      "application/vnd.jupyter.widget-view+json": {
       "model_id": "bdc5ed084ce24bf1a3c77ca773b32b9a",
       "version_major": 2,
       "version_minor": 0
      },
      "text/plain": [
       "Downloading pytorch_model.bin:   0%|          | 0.00/443M [00:00<?, ?B/s]"
      ]
     },
     "metadata": {},
     "output_type": "display_data"
    },
    {
     "data": {
      "application/vnd.jupyter.widget-view+json": {
       "model_id": "26aa52dee68f40cca522085b5efd3403",
       "version_major": 2,
       "version_minor": 0
      },
      "text/plain": [
       "Downloading (…)okenizer_config.json:   0%|          | 0.00/389 [00:00<?, ?B/s]"
      ]
     },
     "metadata": {},
     "output_type": "display_data"
    },
    {
     "data": {
      "application/vnd.jupyter.widget-view+json": {
       "model_id": "45b162bf15f642fda8773a4ec1f77898",
       "version_major": 2,
       "version_minor": 0
      },
      "text/plain": [
       "Downloading (…)solve/main/vocab.txt:   0%|          | 0.00/231k [00:00<?, ?B/s]"
      ]
     },
     "metadata": {},
     "output_type": "display_data"
    },
    {
     "data": {
      "application/vnd.jupyter.widget-view+json": {
       "model_id": "28d4a0c4b90d438082abd3694567e3fa",
       "version_major": 2,
       "version_minor": 0
      },
      "text/plain": [
       "Downloading (…)/main/tokenizer.json:   0%|          | 0.00/734k [00:00<?, ?B/s]"
      ]
     },
     "metadata": {},
     "output_type": "display_data"
    },
    {
     "data": {
      "application/vnd.jupyter.widget-view+json": {
       "model_id": "6b2034b4b6a94df8bde14642db01d526",
       "version_major": 2,
       "version_minor": 0
      },
      "text/plain": [
       "Downloading (…)cial_tokens_map.json:   0%|          | 0.00/125 [00:00<?, ?B/s]"
      ]
     },
     "metadata": {},
     "output_type": "display_data"
    },
    {
     "name": "stdout",
     "output_type": "stream",
     "text": [
      "Texts correctly classified by both models:\n",
      " 0                   osećanje duboke ljubavi i divljenja\n",
      "1     koji pokazuje ili je motivisan saosećanjem, ra...\n",
      "2                   osećanje prijateljstva i uvažavanja\n",
      "3     Osećanja proživljena kada je neko u zadovoljno...\n",
      "4            koji ispoljava pogodan ili povoljan uticaj\n",
      "5                            koji lako žali i sažaljeva\n",
      "6     Osećanje naklonjenosti drugim osobama; uživanj...\n",
      "7            Osećanje samopoštovanja i lične vrednosti.\n",
      "8                          koji čini živahnim i veselim\n",
      "9                         Biti zdrav, osećati se dobro.\n",
      "10    Onaj koji uživa ili pokazuje radost, zadovoljs...\n",
      "11                     osećati zadovoljstvo zbog nečega\n",
      "12    Stanje pozitivnih osećanja, od zadovoljstva do...\n",
      "13    osobina ljudi da veruju u poštenje i pouzdanos...\n",
      "14              koji ima urođenu sklonost prema dobroti\n",
      "Name: X, dtype: object\n",
      "Texts correctly classified by the first model but not the second:\n",
      " 91                                  Učiniti boljim.\n",
      "479                               Veliko bogatstvo.\n",
      "691                      koji čini ili donosi dobro\n",
      "1664         Imati sposobnost ili moć kreativnosti.\n",
      "2746                                 veseo i ozaren\n",
      "2764                 Stav divljenja ili poštovanja.\n",
      "3187                  prijatno i površno uzbuđujući\n",
      "3655       Kvalitet koji pruža zadovoljstvo čulima.\n",
      "4624                   držanje do moralnih principa\n",
      "4953    Biti potpun u svojoj vrsti, bez nedostataka\n",
      "Name: X, dtype: object\n",
      "Texts correctly classified by the second model but not the first:\n",
      " 588     Koji može da čini po slobodnoj volji; koji nij...\n",
      "982     gajiti osećanja dubokog poštovanja i straha pr...\n",
      "1275    kvalitet nečega što je isto po količini, meri,...\n",
      "Name: X, dtype: object\n"
     ]
    }
   ],
   "source": [
    "TestLLM.compare_models(4, \"POS\", \"BERTic\", \"SRGPT\")"
   ]
  },
  {
   "cell_type": "code",
   "execution_count": 5,
   "id": "b45fdfb9-87a7-44f1-a88f-00e838563c02",
   "metadata": {},
   "outputs": [
    {
     "name": "stdout",
     "output_type": "stream",
     "text": [
      "Texts correctly classified by both models:\n",
      " 0        Koji nije popustljiv, kojim se teško upravlja.\n",
      "1                                         Osećati tugu.\n",
      "2                           koji izaziva strah ili užas\n",
      "3     škrtost koja proizilazi iz brige za sopstvenu ...\n",
      "4                      Koji nije naklonjen prea nečemu.\n",
      "5                    onaj koji nije stalan ili postojan\n",
      "6                      koji nije raspoložen da sarađuje\n",
      "7        izuzetno uvredljiv za moral; koji izaziva užas\n",
      "8                          Stanje u kome je neko tužan.\n",
      "9                 Usmrtiti namerno i sa predumišljajem.\n",
      "10                      Ono što izaziva bol ili patnju.\n",
      "11                            povrediti nečija osećanja\n",
      "12          Kvalitet koji ne pruža zadovoljstvo čulima.\n",
      "13                     biti odbojan; izazivati averziju\n",
      "14    Slabljenje ili degeneracije, posebno usled nek...\n",
      "15                          tuga izazvana bolom i tugom\n",
      "16           stanje bola ili patnje zbog lošeg zdravlja\n",
      "17    koji oseća ili ispoljava žalost, naročito zbog...\n",
      "18                                   Koji trpi atrofiju\n",
      "19    Onaj koji proživljava tugu, žalost ili nezadov...\n",
      "20    onaj kojem se ne može ukazati poverenje, u kog...\n",
      "21                                  osećati fizički bol\n",
      "22             osećanje velike utučenosti i melanholije\n",
      "23          Koji na sebi ima prljavštinu ili nečistoću.\n",
      "24    Onemogućen i nije slobodan; ne mpože da deluje...\n",
      "25              svaka šteta proistekla iz povrede prava\n",
      "26             odsustvo moralnih ili duhovnih vrednosti\n",
      "27                                 Koji nije nezavisan.\n",
      "28      Koji se protivi pravilima ili usvojenoj praksi.\n",
      "Name: X, dtype: object\n",
      "Texts correctly classified by the first model but not the second:\n",
      " 276                       Ne osecati se dobro ili udobno.\n",
      "557           pun ili označen ozlojeđenošću ili zlovoljom\n",
      "1206              Uništiti ili oštetiti na nasilan način.\n",
      "1561               protivno zakonu ili zakonom zabranjeno\n",
      "1631              imati neželjene ili negativne kvalitete\n",
      "1902    Tuga povezana sa nekim učinjenim zlom ili neki...\n",
      "2004                Biti lažljiv, neiskrene prema nekome.\n",
      "2365            Posramiti nekoga; povrediti nečiji ponos.\n",
      "2411                    čin namernog odstupanja od istine\n",
      "2610                              tuga izražena plakanjem\n",
      "2856                                      Duboko dirnuti.\n",
      "2917         divljačko i prekomerno ubijanje mnogih ljudi\n",
      "2930                            ispoljavanje rastuženosti\n",
      "3357                                        loše mirisati\n",
      "3455                       koji oseća nadolazeću opasnost\n",
      "3511                               naneti nekome nepravdu\n",
      "3584                              zlonamerno zadovoljstvo\n",
      "4463    Bilo kakva oštetočina na telu izazvana nasilje...\n",
      "4503    Nepravedno postupanje prema nekoj osobi ili gr...\n",
      "4606    Odsustvo kvaliteta koji bi činili nešto vredni...\n",
      "4631    koji misli najgore o ljudskoj prirodi i motivi...\n",
      "4759                      okrutno ili nehumano postupanje\n",
      "4808                               Izazvati ljutnju, bes.\n",
      "Name: X, dtype: object\n",
      "Texts correctly classified by the second model but not the first:\n",
      " 638                         uzrokovati strah\n",
      "1846    svojstvo onoga kome nedostaje živost\n",
      "Name: X, dtype: object\n"
     ]
    }
   ],
   "source": [
    "TestLLM.compare_models(4, \"NEG\", \"BERTic\", \"SRGPT\")"
   ]
  },
  {
   "cell_type": "code",
   "execution_count": 3,
   "id": "7532c5a2-92f2-423c-a06d-6148efe6db4d",
   "metadata": {},
   "outputs": [
    {
     "name": "stdout",
     "output_type": "stream",
     "text": [
      "[[4921   25]\n",
      " [  54   18]]\n",
      "              precision    recall  f1-score   support\n",
      "\n",
      "           0       0.99      0.99      0.99      4946\n",
      "           1       0.42      0.25      0.31        72\n",
      "\n",
      "    accuracy                           0.98      5018\n",
      "   macro avg       0.70      0.62      0.65      5018\n",
      "weighted avg       0.98      0.98      0.98      5018\n",
      "\n"
     ]
    }
   ],
   "source": [
    "TestLLM.test_model(4, \"POS\", \"SRGPT\")"
   ]
  },
  {
   "cell_type": "code",
   "execution_count": 5,
   "id": "a3965c4c-ad93-4268-84b3-b5decd336c58",
   "metadata": {},
   "outputs": [
    {
     "name": "stdout",
     "output_type": "stream",
     "text": [
      "[[4942    0]\n",
      " [  66    0]]\n",
      "              precision    recall  f1-score   support\n",
      "\n",
      "           0       0.99      1.00      0.99      4942\n",
      "           1       0.00      0.00      0.00        66\n",
      "\n",
      "    accuracy                           0.99      5008\n",
      "   macro avg       0.49      0.50      0.50      5008\n",
      "weighted avg       0.97      0.99      0.98      5008\n",
      "\n"
     ]
    },
    {
     "name": "stderr",
     "output_type": "stream",
     "text": [
      "C:\\ProgramData\\anaconda3\\envs\\ML\\Lib\\site-packages\\sklearn\\metrics\\_classification.py:1469: UndefinedMetricWarning: Precision and F-score are ill-defined and being set to 0.0 in labels with no predicted samples. Use `zero_division` parameter to control this behavior.\n",
      "  _warn_prf(average, modifier, msg_start, len(result))\n",
      "C:\\ProgramData\\anaconda3\\envs\\ML\\Lib\\site-packages\\sklearn\\metrics\\_classification.py:1469: UndefinedMetricWarning: Precision and F-score are ill-defined and being set to 0.0 in labels with no predicted samples. Use `zero_division` parameter to control this behavior.\n",
      "  _warn_prf(average, modifier, msg_start, len(result))\n",
      "C:\\ProgramData\\anaconda3\\envs\\ML\\Lib\\site-packages\\sklearn\\metrics\\_classification.py:1469: UndefinedMetricWarning: Precision and F-score are ill-defined and being set to 0.0 in labels with no predicted samples. Use `zero_division` parameter to control this behavior.\n",
      "  _warn_prf(average, modifier, msg_start, len(result))\n"
     ]
    }
   ],
   "source": [
    "TestLLM.test_model(2, \"POS\", \"SRGPT\")"
   ]
  },
  {
   "cell_type": "code",
   "execution_count": 4,
   "id": "16c498f4-73cf-40d3-8281-be062442907c",
   "metadata": {},
   "outputs": [
    {
     "data": {
      "application/vnd.jupyter.widget-view+json": {
       "model_id": "e9ccd5f836134cb99d7a930ceb278c5f",
       "version_major": 2,
       "version_minor": 0
      },
      "text/plain": [
       "Downloading pytorch_model.bin:   0%|          | 0.00/3.09G [00:00<?, ?B/s]"
      ]
     },
     "metadata": {},
     "output_type": "display_data"
    },
    {
     "name": "stdout",
     "output_type": "stream",
     "text": [
      "[[4906   32]\n",
      " [  49   31]]\n",
      "              precision    recall  f1-score   support\n",
      "\n",
      "           0       0.99      0.99      0.99      4938\n",
      "           1       0.49      0.39      0.43        80\n",
      "\n",
      "    accuracy                           0.98      5018\n",
      "   macro avg       0.74      0.69      0.71      5018\n",
      "weighted avg       0.98      0.98      0.98      5018\n",
      "\n"
     ]
    }
   ],
   "source": [
    "TestLLM.test_model(4, \"NEG\", \"SRGPT\")"
   ]
  },
  {
   "cell_type": "code",
   "execution_count": 6,
   "id": "14463e4a-3696-4b58-8704-c8bd056fc047",
   "metadata": {},
   "outputs": [
    {
     "name": "stdout",
     "output_type": "stream",
     "text": [
      "[[4901   31]\n",
      " [  46   30]]\n",
      "              precision    recall  f1-score   support\n",
      "\n",
      "           0       0.99      0.99      0.99      4932\n",
      "           1       0.49      0.39      0.44        76\n",
      "\n",
      "    accuracy                           0.98      5008\n",
      "   macro avg       0.74      0.69      0.72      5008\n",
      "weighted avg       0.98      0.98      0.98      5008\n",
      "\n"
     ]
    }
   ],
   "source": [
    "TestLLM.test_model(2, \"NEG\", \"SRGPT\")"
   ]
  },
  {
   "cell_type": "code",
   "execution_count": null,
   "id": "0b523721-802d-46b9-a847-630beead7a54",
   "metadata": {},
   "outputs": [],
   "source": []
  }
 ],
 "metadata": {
  "kernelspec": {
   "display_name": "Python 3 (ipykernel)",
   "language": "python",
   "name": "python3"
  },
  "language_info": {
   "codemirror_mode": {
    "name": "ipython",
    "version": 3
   },
   "file_extension": ".py",
   "mimetype": "text/x-python",
   "name": "python",
   "nbconvert_exporter": "python",
   "pygments_lexer": "ipython3",
   "version": "3.11.4"
  }
 },
 "nbformat": 4,
 "nbformat_minor": 5
}

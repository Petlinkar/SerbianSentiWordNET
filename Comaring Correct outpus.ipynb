{
 "cells": [
  {
   "cell_type": "code",
   "execution_count": 2,
   "id": "d306a8dd-caaf-496d-adc9-64085f171a27",
   "metadata": {},
   "outputs": [],
   "source": [
    "import TestLLM"
   ]
  },
  {
   "cell_type": "code",
   "execution_count": 2,
   "id": "b74f6c13-8786-4a71-ad9c-c32e8d7f5174",
   "metadata": {},
   "outputs": [
    {
     "name": "stderr",
     "output_type": "stream",
     "text": [
      "Xformers is not installed correctly. If you want to use memory_efficient_attention to accelerate training use the following command to install Xformers\n",
      "pip install xformers.\n"
     ]
    },
    {
     "name": "stdout",
     "output_type": "stream",
     "text": [
      "215     Kvalitet koji čini daa je nešto poželjno, vred...\n",
      "521     Koji ima ili ukazuje na dobro zdravlje tela il...\n",
      "533                   stanje bez oštećenja ili propadanja\n",
      "691     osećati se veselo i biti ispunjen dobrim raspo...\n",
      "919                         Biti prihvatljiv ili pristao.\n",
      "951                          koji čini živahnim i veselim\n",
      "1154             koji ohrabruje, odobrava ili zadovoljava\n",
      "1282    Onaj koji uživa ili pokazuje radost, zadovoljs...\n",
      "1365                                      Upadljiv uspeh.\n",
      "1373           radnja koju karakteriše dobro raspoloženje\n",
      "1771                činjenje dobra; osećaj dobrotvornosti\n",
      "2315                             koji donosi dobar profit\n",
      "2383    koji je oslobođen stresa ili pogoduje mentalno...\n",
      "2581    Jako pozitivno osećanje poštovanja i privrežen...\n",
      "3140                             usrećiti ili zadovoljiti\n",
      "3406         Stanje kada je neko prosperitetan i uspešan.\n",
      "3483    koji oseća ili ispoljava veliko uzbuđenje ili ...\n",
      "3536                                  biti privlačan kome\n",
      "3945                                Moralna izvanrednost.\n",
      "4224             Zaokupiti na prijatan ili zabavan način.\n",
      "4351          francuska reč za sreću i dobro raspoloženje\n",
      "4444                           Korisna ili vredna osobina\n",
      "Name: X, dtype: object\n"
     ]
    }
   ],
   "source": [
    "TestLLM.print_correctly_classified_instances(0, \"POS\" , \"BERTic\")"
   ]
  },
  {
   "cell_type": "code",
   "execution_count": 3,
   "id": "259d30ca-0b4a-4414-ad14-3e1b119bab2f",
   "metadata": {},
   "outputs": [
    {
     "name": "stdout",
     "output_type": "stream",
     "text": [
      "691     osećati se veselo i biti ispunjen dobrim raspo...\n",
      "1771                činjenje dobra; osećaj dobrotvornosti\n",
      "2581    Jako pozitivno osećanje poštovanja i privrežen...\n",
      "3140                             usrećiti ili zadovoljiti\n",
      "3592           sposoban za korektno i validno rezonovanje\n",
      "4444                           Korisna ili vredna osobina\n",
      "Name: X, dtype: object\n"
     ]
    }
   ],
   "source": [
    "TestLLM.print_correctly_classified_instances(0, \"POS\" , \"BERTicovo\")"
   ]
  },
  {
   "cell_type": "code",
   "execution_count": 4,
   "id": "52040da3-5afa-42f6-8dc5-60dc5519b0d7",
   "metadata": {},
   "outputs": [
    {
     "name": "stdout",
     "output_type": "stream",
     "text": [
      "99          osobina prefinjene uglađenosti i dobrog ukusa\n",
      "128                         Biti prihvatljiv ili pristao.\n",
      "136         koji donosi spasenje ili iskupljenje od greha\n",
      "380            Osećanje samopoštovanja i lične vrednosti.\n",
      "436              koji ohrabruje, odobrava ili zadovoljava\n",
      "561                 Stanje zadovoljstva jer nema bolesti.\n",
      "584                              koji donosi dobar profit\n",
      "799                    postojan u naklonosti ili odanosti\n",
      "812     Kvalitet koji čini daa je nešto poželjno, vred...\n",
      "1022    Koji ima potrebne sposobnosti, veštinu ili zna...\n",
      "1533                onaj koji poseduje moralne kvalitete;\n",
      "1551           koji ispoljava pogodan ili povoljan uticaj\n",
      "1776     koji pokazuje ili izaziva veselje i zadovoljstvo\n",
      "1807    kvalitet koji ima nešto što ima veliku vrednos...\n",
      "2031            Biti nekome prihvatljiv ili odgovarajući.\n",
      "2269               Osobina onoga što zaslužuje poverenje.\n",
      "2558                                 blagonaklona procena\n",
      "2831                     osećati zadovoljstvo zbog nečega\n",
      "3176                               osećanje naklonjenosti\n",
      "3291      preuveličano osećanje blagostanja ili ushićenja\n",
      "3356                         koji čini živahnim i veselim\n",
      "3440                     Od velikog značaja ili važnosti.\n",
      "3461          Biti potpun u svojoj vrsti, bez nedostataka\n",
      "3471           radnja koju karakteriše dobro raspoloženje\n",
      "4098                           koji čini ili donosi dobro\n",
      "4496                na visokom nivou po rangu ili značaju\n",
      "4784    Koji ushićuje čula, uzbuđuje duh ili izaziva e...\n",
      "4949    koji je oslobođen stresa ili pogoduje mentalno...\n",
      "Name: X, dtype: object\n"
     ]
    }
   ],
   "source": [
    "TestLLM.print_correctly_classified_instances(2, \"POS\" , \"BERTic\")"
   ]
  },
  {
   "cell_type": "code",
   "execution_count": 6,
   "id": "decd6cd7-2b20-4606-8bc4-9cef1fd8c35b",
   "metadata": {},
   "outputs": [
    {
     "name": "stdout",
     "output_type": "stream",
     "text": [
      "99          osobina prefinjene uglađenosti i dobrog ukusa\n",
      "1148    briga o razlikovanju dobra i zla ili pravednog...\n",
      "1807    kvalitet koji ima nešto što ima veliku vrednos...\n",
      "1856    Osećanje naklonjenosti drugim osobama; uživanj...\n",
      "2558                                 blagonaklona procena\n",
      "2831                     osećati zadovoljstvo zbog nečega\n",
      "3176                               osećanje naklonjenosti\n",
      "3291      preuveličano osećanje blagostanja ili ushićenja\n",
      "3513    Koji je pred erupcijom ili izbacuje lavu (o vu...\n",
      "3999                                   prijateljska narav\n",
      "4423                                 postići bod ili cilj\n",
      "Name: X, dtype: object\n"
     ]
    }
   ],
   "source": [
    "TestLLM.print_correctly_classified_instances(2, \"POS\" , \"BERTicovo\")"
   ]
  },
  {
   "cell_type": "code",
   "execution_count": 7,
   "id": "3adb77a9-a1ce-4be4-9eb9-9c4655e46e43",
   "metadata": {},
   "outputs": [
    {
     "data": {
      "application/vnd.jupyter.widget-view+json": {
       "model_id": "cc78abbbc0124ae496ea2983631e37d2",
       "version_major": 2,
       "version_minor": 0
      },
      "text/plain": [
       "Downloading (…)lve/main/config.json:   0%|          | 0.00/922 [00:00<?, ?B/s]"
      ]
     },
     "metadata": {},
     "output_type": "display_data"
    },
    {
     "name": "stderr",
     "output_type": "stream",
     "text": [
      "C:\\ProgramData\\anaconda3\\envs\\ML\\Lib\\site-packages\\huggingface_hub\\file_download.py:133: UserWarning: `huggingface_hub` cache-system uses symlinks by default to efficiently store duplicated files but your machine does not support them in C:\\Users\\sasa5\\.cache\\huggingface\\hub. Caching files will still work but in a degraded version that might require more space on your disk. This warning can be disabled by setting the `HF_HUB_DISABLE_SYMLINKS_WARNING` environment variable. For more details, see https://huggingface.co/docs/huggingface_hub/how-to-cache#limitations.\n",
      "To support symlinks on Windows, you either need to activate Developer Mode or to run Python as an administrator. In order to see activate developer mode, see this article: https://docs.microsoft.com/en-us/windows/apps/get-started/enable-your-device-for-development\n",
      "  warnings.warn(message)\n"
     ]
    },
    {
     "data": {
      "application/vnd.jupyter.widget-view+json": {
       "model_id": "0f7940f9c0224e40a68faa354522059e",
       "version_major": 2,
       "version_minor": 0
      },
      "text/plain": [
       "Downloading pytorch_model.bin:   0%|          | 0.00/443M [00:00<?, ?B/s]"
      ]
     },
     "metadata": {},
     "output_type": "display_data"
    },
    {
     "data": {
      "application/vnd.jupyter.widget-view+json": {
       "model_id": "1af031a0fc504780a1be543942efcbb0",
       "version_major": 2,
       "version_minor": 0
      },
      "text/plain": [
       "Downloading (…)okenizer_config.json:   0%|          | 0.00/389 [00:00<?, ?B/s]"
      ]
     },
     "metadata": {},
     "output_type": "display_data"
    },
    {
     "data": {
      "application/vnd.jupyter.widget-view+json": {
       "model_id": "08782f0b50f0411187980ab5018438ff",
       "version_major": 2,
       "version_minor": 0
      },
      "text/plain": [
       "Downloading (…)solve/main/vocab.txt:   0%|          | 0.00/231k [00:00<?, ?B/s]"
      ]
     },
     "metadata": {},
     "output_type": "display_data"
    },
    {
     "data": {
      "application/vnd.jupyter.widget-view+json": {
       "model_id": "6071e0d5fd8f4854afeecd2112eb0f2f",
       "version_major": 2,
       "version_minor": 0
      },
      "text/plain": [
       "Downloading (…)/main/tokenizer.json:   0%|          | 0.00/734k [00:00<?, ?B/s]"
      ]
     },
     "metadata": {},
     "output_type": "display_data"
    },
    {
     "data": {
      "application/vnd.jupyter.widget-view+json": {
       "model_id": "bdd269262b984affa1c70adf813240da",
       "version_major": 2,
       "version_minor": 0
      },
      "text/plain": [
       "Downloading (…)cial_tokens_map.json:   0%|          | 0.00/125 [00:00<?, ?B/s]"
      ]
     },
     "metadata": {},
     "output_type": "display_data"
    },
    {
     "name": "stdout",
     "output_type": "stream",
     "text": [
      "Series([], Name: X, dtype: object)\n"
     ]
    }
   ],
   "source": [
    "TestLLM.print_correctly_classified_instances(4, \"POS\" , \"BERTic\")"
   ]
  },
  {
   "cell_type": "code",
   "execution_count": 8,
   "id": "7d4fe2cb-d031-4890-9300-c5b3f323d79f",
   "metadata": {},
   "outputs": [
    {
     "name": "stdout",
     "output_type": "stream",
     "text": [
      "76                    osećanje duboke ljubavi i divljenja\n",
      "975           preparat koji se koristi za čišćenje nečega\n",
      "1450           sposoban za korektno i validno rezonovanje\n",
      "1530    Čin ukrašavanja nečega (u nadi da će od toga p...\n",
      "1864                  osećanje prijateljstva i uvažavanja\n",
      "2461                                 postići bod ili cilj\n",
      "2746                                       veseo i ozaren\n",
      "2879    Osećanje naklonjenosti drugim osobama; uživanj...\n",
      "2891                               kojeg je neko uveselio\n",
      "3024    briga o razlikovanju dobra i zla ili pravednog...\n",
      "3544            smanjiti bol ili neprijatnosti ; ublažiti\n",
      "3781                     osećati zadovoljstvo zbog nečega\n",
      "4509    osobina ljudi da veruju u poštenje i pouzdanos...\n",
      "4624                         držanje do moralnih principa\n",
      "4750    učiniti čistim ili slobodnim od greha ili krivice\n",
      "Name: X, dtype: object\n"
     ]
    }
   ],
   "source": [
    "TestLLM.print_correctly_classified_instances(4, \"POS\" , \"BERTicovo\")"
   ]
  },
  {
   "cell_type": "code",
   "execution_count": 3,
   "id": "3bd91502-3d59-40d2-bbf4-24aaaef4edd0",
   "metadata": {},
   "outputs": [
    {
     "name": "stderr",
     "output_type": "stream",
     "text": [
      "Xformers is not installed correctly. If you want to use memory_efficient_attention to accelerate training use the following command to install Xformers\n",
      "pip install xformers.\n"
     ]
    },
    {
     "name": "stdout",
     "output_type": "stream",
     "text": [
      "Texts correctly classified by both models:\n",
      " 0    osećati se veselo i biti ispunjen dobrim raspo...\n",
      "1                činjenje dobra; osećaj dobrotvornosti\n",
      "2    Jako pozitivno osećanje poštovanja i privrežen...\n",
      "3                             usrećiti ili zadovoljiti\n",
      "4                           Korisna ili vredna osobina\n",
      "Name: X, dtype: object\n",
      "Texts correctly classified by the first model but not the second:\n",
      " 215     Kvalitet koji čini daa je nešto poželjno, vred...\n",
      "521     Koji ima ili ukazuje na dobro zdravlje tela il...\n",
      "533                   stanje bez oštećenja ili propadanja\n",
      "919                         Biti prihvatljiv ili pristao.\n",
      "951                          koji čini živahnim i veselim\n",
      "1154             koji ohrabruje, odobrava ili zadovoljava\n",
      "1282    Onaj koji uživa ili pokazuje radost, zadovoljs...\n",
      "1365                                      Upadljiv uspeh.\n",
      "1373           radnja koju karakteriše dobro raspoloženje\n",
      "2315                             koji donosi dobar profit\n",
      "2383    koji je oslobođen stresa ili pogoduje mentalno...\n",
      "3406         Stanje kada je neko prosperitetan i uspešan.\n",
      "3483    koji oseća ili ispoljava veliko uzbuđenje ili ...\n",
      "3536                                  biti privlačan kome\n",
      "3945                                Moralna izvanrednost.\n",
      "4224             Zaokupiti na prijatan ili zabavan način.\n",
      "4351          francuska reč za sreću i dobro raspoloženje\n",
      "Name: X, dtype: object\n",
      "Texts correctly classified by the second model but not the first:\n",
      " 3592    sposoban za korektno i validno rezonovanje\n",
      "Name: X, dtype: object\n"
     ]
    }
   ],
   "source": [
    "TestLLM.compare_models(0, \"POS\", \"BERTic\", \"BERTicovo\")"
   ]
  },
  {
   "cell_type": "code",
   "execution_count": 4,
   "id": "ee7ed086-db22-444f-b32c-35ddfb53b6c4",
   "metadata": {},
   "outputs": [
    {
     "name": "stdout",
     "output_type": "stream",
     "text": [
      "Texts correctly classified by both models:\n",
      " 0                    osoba koja ne prihvata nove ideje\n",
      "1                                 intenzivna ojađenost\n",
      "2                              uopštenih osećanja tuge\n",
      "3               žalostan zbog gubitka ili uskraćenosti\n",
      "4             odsustvo moralnih ili duhovnih vrednosti\n",
      "5    iznenadno stanje žestoke emocionalne uznemiren...\n",
      "6                    nedolično ili nemoralno ponašanje\n",
      "Name: X, dtype: object\n",
      "Texts correctly classified by the first model but not the second:\n",
      " 215     Kvalitet nečega što nije adekvatno ili perfektno.\n",
      "417     Koji nije originalan; nije produktivan, ne don...\n",
      "614             Posramiti nekoga; povrediti nečiji ponos.\n",
      "833                       Kvalitet onog ko nije brižljiv.\n",
      "919     koji zaslužuje sažaljenje ili podstiče na saža...\n",
      "951                 nenormalna depresija i nezadovoljstvo\n",
      "996     onaj kojem se ne može ukazati poverenje, u kog...\n",
      "1154    Stanje u kome čovek ne može da funkcioniše nor...\n",
      "1282    Koji više nema životne funkcije (ili bar tako ...\n",
      "1347    nejasno i neprijatno osećanje koje se ima u iš...\n",
      "1356              Smatrati da je nešto loše ili pogrešno.\n",
      "1365                 koji odražava sumornost i smrknutost\n",
      "1373    Ono što nije lako, zahteva veliki fizički ili ...\n",
      "1387                      okrutno ili nehumano postupanje\n",
      "1454    koji misli najgore o ljudskoj prirodi i motivi...\n",
      "1658                          tuga izazvana bolom i tugom\n",
      "2383                      Uzrok velikih patnji i nesreće.\n",
      "2464    Intenzivno ili preterano loš ili neprijatan po...\n",
      "2581                                  neprijateljski stav\n",
      "2733                     biti odbojan; izazivati averziju\n",
      "2780                     koji nije raspoložen da sarađuje\n",
      "3073    mentalno uznemiren zbog moguće nesreće ili opa...\n",
      "3406    koji je označen beznadežnošću ili ispoljava be...\n",
      "3536    Kvalitet nekog ili nečega što ima slabiju ili ...\n",
      "3592                Biti lažljiv, neiskrene prema nekome.\n",
      "3599                                 okarakterisan zlobom\n",
      "3687                   veoma nesrećan; ispunjen mizerijom\n",
      "3764                   izuzetno loš ili nezadovoljavajući\n",
      "3806             Prolivati suze zbog tuge, besa ili bola.\n",
      "3945    Koji nema potrebne sposobnosti, veštinu ili zn...\n",
      "4319    koji izaziva neprijatnost; na primer, neprijat...\n",
      "4351    Stanje koje karakterišu osećanja u rasponu od ...\n",
      "4444                Stanje koje još ne odgovara zrelosti.\n",
      "4877            Osobina onoga što ne zaslužuje poverenje.\n",
      "Name: X, dtype: object\n",
      "Texts correctly classified by the second model but not the first:\n",
      " 1407    zlonamerno zadovoljstvo\n",
      "Name: X, dtype: object\n"
     ]
    }
   ],
   "source": [
    "TestLLM.compare_models(0, \"NEG\", \"BERTic\", \"BERTicovo\")"
   ]
  },
  {
   "cell_type": "code",
   "execution_count": 6,
   "id": "1fcae7df-61d2-4bec-b0db-e66d62dbbeb1",
   "metadata": {},
   "outputs": [
    {
     "data": {
      "application/vnd.jupyter.widget-view+json": {
       "model_id": "f371310e709244e69c158c415feda54a",
       "version_major": 2,
       "version_minor": 0
      },
      "text/plain": [
       "Downloading (…)lve/main/config.json:   0%|          | 0.00/1.11k [00:00<?, ?B/s]"
      ]
     },
     "metadata": {},
     "output_type": "display_data"
    },
    {
     "name": "stderr",
     "output_type": "stream",
     "text": [
      "C:\\ProgramData\\anaconda3\\envs\\ML\\Lib\\site-packages\\huggingface_hub\\file_download.py:133: UserWarning: `huggingface_hub` cache-system uses symlinks by default to efficiently store duplicated files but your machine does not support them in C:\\Users\\sasa5\\.cache\\huggingface\\hub. Caching files will still work but in a degraded version that might require more space on your disk. This warning can be disabled by setting the `HF_HUB_DISABLE_SYMLINKS_WARNING` environment variable. For more details, see https://huggingface.co/docs/huggingface_hub/how-to-cache#limitations.\n",
      "To support symlinks on Windows, you either need to activate Developer Mode or to run Python as an administrator. In order to see activate developer mode, see this article: https://docs.microsoft.com/en-us/windows/apps/get-started/enable-your-device-for-development\n",
      "  warnings.warn(message)\n"
     ]
    },
    {
     "data": {
      "application/vnd.jupyter.widget-view+json": {
       "model_id": "b29b462b325c40fe9ca437154b75acb1",
       "version_major": 2,
       "version_minor": 0
      },
      "text/plain": [
       "Downloading pytorch_model.bin:   0%|          | 0.00/3.09G [00:00<?, ?B/s]"
      ]
     },
     "metadata": {},
     "output_type": "display_data"
    },
    {
     "data": {
      "application/vnd.jupyter.widget-view+json": {
       "model_id": "d14742be8a35454cb8f59eb0a4d7b855",
       "version_major": 2,
       "version_minor": 0
      },
      "text/plain": [
       "Downloading (…)okenizer_config.json:   0%|          | 0.00/261 [00:00<?, ?B/s]"
      ]
     },
     "metadata": {},
     "output_type": "display_data"
    },
    {
     "data": {
      "application/vnd.jupyter.widget-view+json": {
       "model_id": "53448fb1f4a444d7aaddc8519e27cb7f",
       "version_major": 2,
       "version_minor": 0
      },
      "text/plain": [
       "Downloading (…)olve/main/vocab.json:   0%|          | 0.00/832k [00:00<?, ?B/s]"
      ]
     },
     "metadata": {},
     "output_type": "display_data"
    },
    {
     "data": {
      "application/vnd.jupyter.widget-view+json": {
       "model_id": "eb47e7b2591a437d95d516b8982b6858",
       "version_major": 2,
       "version_minor": 0
      },
      "text/plain": [
       "Downloading (…)olve/main/merges.txt:   0%|          | 0.00/498k [00:00<?, ?B/s]"
      ]
     },
     "metadata": {},
     "output_type": "display_data"
    },
    {
     "data": {
      "application/vnd.jupyter.widget-view+json": {
       "model_id": "5125c9e900a1473899e9c7b7455e0f4d",
       "version_major": 2,
       "version_minor": 0
      },
      "text/plain": [
       "Downloading (…)/main/tokenizer.json:   0%|          | 0.00/2.17M [00:00<?, ?B/s]"
      ]
     },
     "metadata": {},
     "output_type": "display_data"
    },
    {
     "data": {
      "application/vnd.jupyter.widget-view+json": {
       "model_id": "44cb46d3d775496580252e2ff7122733",
       "version_major": 2,
       "version_minor": 0
      },
      "text/plain": [
       "Downloading (…)in/added_tokens.json:   0%|          | 0.00/29.0 [00:00<?, ?B/s]"
      ]
     },
     "metadata": {},
     "output_type": "display_data"
    },
    {
     "data": {
      "application/vnd.jupyter.widget-view+json": {
       "model_id": "ebf09467d35e463fb535b6ca72ccd3b5",
       "version_major": 2,
       "version_minor": 0
      },
      "text/plain": [
       "Downloading (…)cial_tokens_map.json:   0%|          | 0.00/99.0 [00:00<?, ?B/s]"
      ]
     },
     "metadata": {},
     "output_type": "display_data"
    },
    {
     "name": "stdout",
     "output_type": "stream",
     "text": [
      "Texts correctly classified by both models:\n",
      " 0     Kvalitet nečega što nije adekvatno ili perfektno.\n",
      "1     Koji nije originalan; nije produktivan, ne don...\n",
      "2                       Kvalitet onog ko nije brižljiv.\n",
      "3     koji zaslužuje sažaljenje ili podstiče na saža...\n",
      "4     Stanje u kome čovek ne može da funkcioniše nor...\n",
      "5                           tuga izazvana bolom i tugom\n",
      "6     Intenzivno ili preterano loš ili neprijatan po...\n",
      "7     mentalno uznemiren zbog moguće nesreće ili opa...\n",
      "8     koji je označen beznadežnošću ili ispoljava be...\n",
      "9                     nedolično ili nemoralno ponašanje\n",
      "10                                 okarakterisan zlobom\n",
      "11                   veoma nesrećan; ispunjen mizerijom\n",
      "12                   izuzetno loš ili nezadovoljavajući\n",
      "13             Prolivati suze zbog tuge, besa ili bola.\n",
      "14    Koji nema potrebne sposobnosti, veštinu ili zn...\n",
      "15    koji izaziva neprijatnost; na primer, neprijat...\n",
      "16    Stanje koje karakterišu osećanja u rasponu od ...\n",
      "Name: X, dtype: object\n",
      "Texts correctly classified by the first model but not the second:\n",
      " 279                     osoba koja ne prihvata nove ideje\n",
      "533                                  intenzivna ojađenost\n",
      "614             Posramiti nekoga; povrediti nečiji ponos.\n",
      "951                 nenormalna depresija i nezadovoljstvo\n",
      "970                               uopštenih osećanja tuge\n",
      "996     onaj kojem se ne može ukazati poverenje, u kog...\n",
      "1282    Koji više nema životne funkcije (ili bar tako ...\n",
      "1347    nejasno i neprijatno osećanje koje se ima u iš...\n",
      "1356              Smatrati da je nešto loše ili pogrešno.\n",
      "1365                 koji odražava sumornost i smrknutost\n",
      "1373    Ono što nije lako, zahteva veliki fizički ili ...\n",
      "1387                      okrutno ili nehumano postupanje\n",
      "1454    koji misli najgore o ljudskoj prirodi i motivi...\n",
      "2277               žalostan zbog gubitka ili uskraćenosti\n",
      "2383                      Uzrok velikih patnji i nesreće.\n",
      "2581                                  neprijateljski stav\n",
      "2733                     biti odbojan; izazivati averziju\n",
      "2768             odsustvo moralnih ili duhovnih vrednosti\n",
      "2780                     koji nije raspoložen da sarađuje\n",
      "3047    iznenadno stanje žestoke emocionalne uznemiren...\n",
      "3536    Kvalitet nekog ili nečega što ima slabiju ili ...\n",
      "3592                Biti lažljiv, neiskrene prema nekome.\n",
      "4444                Stanje koje još ne odgovara zrelosti.\n",
      "4877            Osobina onoga što ne zaslužuje poverenje.\n",
      "Name: X, dtype: object\n",
      "Texts correctly classified by the second model but not the first:\n",
      " 159    Odgovor telesnog tkiva na povredu ili nadržaj;...\n",
      "619    koji izaziva iznenađenje, čuđenje ili zadivlje...\n",
      "Name: X, dtype: object\n"
     ]
    }
   ],
   "source": [
    "TestLLM.compare_models(0, \"NEG\", \"BERTic\", \"SRGPT\")"
   ]
  },
  {
   "cell_type": "code",
   "execution_count": null,
   "id": "7532c5a2-92f2-423c-a06d-6148efe6db4d",
   "metadata": {},
   "outputs": [],
   "source": []
  }
 ],
 "metadata": {
  "kernelspec": {
   "display_name": "Python 3 (ipykernel)",
   "language": "python",
   "name": "python3"
  },
  "language_info": {
   "codemirror_mode": {
    "name": "ipython",
    "version": 3
   },
   "file_extension": ".py",
   "mimetype": "text/x-python",
   "name": "python",
   "nbconvert_exporter": "python",
   "pygments_lexer": "ipython3",
   "version": "3.11.4"
  }
 },
 "nbformat": 4,
 "nbformat_minor": 5
}

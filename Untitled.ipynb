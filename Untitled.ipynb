{
 "cells": [
  {
   "cell_type": "code",
   "execution_count": 1,
   "id": "a692061f-4feb-41d9-bed0-be586bb5a84c",
   "metadata": {},
   "outputs": [],
   "source": [
    "from sentiwordnet_calculator import SentimentPipeline"
   ]
  },
  {
   "cell_type": "code",
   "execution_count": 6,
   "id": "3bfff5c1-7879-49ca-baa0-a50af7c0ebc4",
   "metadata": {},
   "outputs": [],
   "source": [
    "pipe = SentimentPipeline(\"Tanor/SRGPTSENTPOS4\", \"Tanor/SRGPTSENTNEG4\")"
   ]
  },
  {
   "cell_type": "code",
   "execution_count": 7,
   "id": "8d4e1e66-66f4-4ecb-ba14-33547c639e63",
   "metadata": {},
   "outputs": [
    {
     "data": {
      "text/plain": [
       "{'POS': 2.7893207743545645e-09,\n",
       " 'NEG': 0.9998557595489643,\n",
       " 'OBJ': 0.0001442376617148966}"
      ]
     },
     "execution_count": 7,
     "metadata": {},
     "output_type": "execute_result"
    }
   ],
   "source": [
    "pipe(\"žalostan zbog gubitka ili uskraćenosti\")"
   ]
  },
  {
   "cell_type": "code",
   "execution_count": 8,
   "id": "e12f1ed5-0f34-484a-88b8-e51aa008f2d1",
   "metadata": {},
   "outputs": [
    {
     "data": {
      "text/plain": [
       "{'POS': 0.9236347392099162,\n",
       " 'NEG': 1.2011815812229543e-05,\n",
       " 'OBJ': 0.07635324897427154}"
      ]
     },
     "execution_count": 8,
     "metadata": {},
     "output_type": "execute_result"
    }
   ],
   "source": [
    "pipe(\"Stanje kada je neko prosperitetan i uspešan.\")"
   ]
  },
  {
   "cell_type": "code",
   "execution_count": 9,
   "id": "1c9dd979-8725-40c0-a0eb-e8e01675a709",
   "metadata": {},
   "outputs": [
    {
     "data": {
      "text/plain": [
       "{'POS': 0.7665069122036456,\n",
       " 'NEG': 2.9225071429550553e-06,\n",
       " 'OBJ': 0.2334901652892114}"
      ]
     },
     "execution_count": 9,
     "metadata": {},
     "output_type": "execute_result"
    }
   ],
   "source": [
    "pipe(\"koji lako žali i sažaljeva\")"
   ]
  },
  {
   "cell_type": "code",
   "execution_count": 14,
   "id": "0480b914-cc82-4e9d-8268-68771fa285c7",
   "metadata": {},
   "outputs": [],
   "source": [
    "from transformers import pipeline "
   ]
  },
  {
   "cell_type": "code",
   "execution_count": 15,
   "id": "d2d84223-cc92-4a0f-a587-0b70a3bf9c0b",
   "metadata": {},
   "outputs": [],
   "source": [
    "pipe_pos =pipeline('text-classification', model=\"Tanor/SRGPTSENTPOS4\")"
   ]
  },
  {
   "cell_type": "code",
   "execution_count": 16,
   "id": "deb20e77-86d9-4cb7-b1c8-d5b59377ee14",
   "metadata": {},
   "outputs": [],
   "source": [
    "pipe_neg =pipeline('text-classification', model=\"Tanor/SRGPTSENTNEG4\")"
   ]
  },
  {
   "cell_type": "code",
   "execution_count": 26,
   "id": "2548d65f-1238-4a81-92d8-d663409d73ff",
   "metadata": {},
   "outputs": [
    {
     "data": {
      "text/plain": [
       "[{'label': 'POSITIVE', 'score': 0.8717486262321472}]"
      ]
     },
     "execution_count": 26,
     "metadata": {},
     "output_type": "execute_result"
    }
   ],
   "source": [
    "pipe_pos(\"osećanje duboke ljubavi i divljenja\")"
   ]
  },
  {
   "cell_type": "code",
   "execution_count": 27,
   "id": "79843c36-c129-40e2-8741-047bbfc0fa68",
   "metadata": {},
   "outputs": [
    {
     "data": {
      "text/plain": [
       "[{'label': 'NEGATIVE', 'score': 0.5301525592803955}]"
      ]
     },
     "execution_count": 27,
     "metadata": {},
     "output_type": "execute_result"
    }
   ],
   "source": [
    "pipe_neg(\"osećanje duboke ljubavi i divljenja\")"
   ]
  },
  {
   "cell_type": "code",
   "execution_count": 10,
   "id": "5b9ab1c1-88ea-451f-bc9a-8356667c96f6",
   "metadata": {},
   "outputs": [
    {
     "data": {
      "text/plain": [
       "{'POS': 0.8717388577019136,\n",
       " 'NEG': 1.4371429841730787e-06,\n",
       " 'OBJ': 0.1282597051551022}"
      ]
     },
     "execution_count": 10,
     "metadata": {},
     "output_type": "execute_result"
    }
   ],
   "source": [
    "pipe(\"osećanje duboke ljubavi i divljenja\")"
   ]
  },
  {
   "cell_type": "code",
   "execution_count": 20,
   "id": "a94d784c-e5f7-4b7b-b13e-5e87381de362",
   "metadata": {},
   "outputs": [
    {
     "data": {
      "text/plain": [
       "[{'label': 'NEGATIVE', 'score': 0.5302954912185669}]"
      ]
     },
     "execution_count": 20,
     "metadata": {},
     "output_type": "execute_result"
    }
   ],
   "source": [
    "pipe_neg(\"koji čini živahnim i veselim\")"
   ]
  },
  {
   "cell_type": "code",
   "execution_count": 28,
   "id": "972fc596-6932-4ff5-a963-1d286da369b2",
   "metadata": {},
   "outputs": [],
   "source": [
    "pipe_BERic = SentimentPipeline(\"Tanor/BERTicSENTPOS4\", \"Tanor/BERTicSENTNEG4\")"
   ]
  },
  {
   "cell_type": "code",
   "execution_count": 29,
   "id": "e9b04b1e-2f8f-4091-815f-2ab5de457a7d",
   "metadata": {},
   "outputs": [
    {
     "data": {
      "text/plain": [
       "{'POS': 0.7131414238334948,\n",
       " 'NEG': 0.007233959806089985,\n",
       " 'OBJ': 0.27962461636041525}"
      ]
     },
     "execution_count": 29,
     "metadata": {},
     "output_type": "execute_result"
    }
   ],
   "source": [
    "pipe_BERic(\"osećanje duboke ljubavi i divljenja\")"
   ]
  },
  {
   "cell_type": "code",
   "execution_count": 29,
   "id": "476295a5-e8cf-440f-9191-f6b8c427aaa3",
   "metadata": {},
   "outputs": [
    {
     "data": {
      "text/plain": [
       "{'POS': 0.7131414238334948,\n",
       " 'NEG': 0.007233959806089985,\n",
       " 'OBJ': 0.27962461636041525}"
      ]
     },
     "execution_count": 29,
     "metadata": {},
     "output_type": "execute_result"
    }
   ],
   "source": [
    "pipe_BERic(\"osećanje duboke ljubavi i divljenja\")"
   ]
  }
 ],
 "metadata": {
  "kernelspec": {
   "display_name": "Python 3 (ipykernel)",
   "language": "python",
   "name": "python3"
  },
  "language_info": {
   "codemirror_mode": {
    "name": "ipython",
    "version": 3
   },
   "file_extension": ".py",
   "mimetype": "text/x-python",
   "name": "python",
   "nbconvert_exporter": "python",
   "pygments_lexer": "ipython3",
   "version": "3.11.4"
  }
 },
 "nbformat": 4,
 "nbformat_minor": 5
}

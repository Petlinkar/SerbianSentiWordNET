{
 "cells": [
  {
   "cell_type": "code",
   "execution_count": 1,
   "id": "a692061f-4feb-41d9-bed0-be586bb5a84c",
   "metadata": {},
   "outputs": [],
   "source": [
    "from sentiwordnet_calculator import SentimentPipeline"
   ]
  },
  {
   "cell_type": "code",
   "execution_count": 2,
   "id": "3bfff5c1-7879-49ca-baa0-a50af7c0ebc4",
   "metadata": {},
   "outputs": [
    {
     "name": "stderr",
     "output_type": "stream",
     "text": [
      "Xformers is not installed correctly. If you want to use memory_efficient_attention to accelerate training use the following command to install Xformers\n",
      "pip install xformers.\n"
     ]
    }
   ],
   "source": [
    "pipe = SentimentPipeline(\"Tanor/SRGPTSENTPOS4\", \"Tanor/SRGPTSENTNEG4\")"
   ]
  },
  {
   "cell_type": "code",
   "execution_count": 3,
   "id": "8d4e1e66-66f4-4ecb-ba14-33547c639e63",
   "metadata": {},
   "outputs": [
    {
     "data": {
      "text/plain": [
       "{'POS': 1.0329343027137838e-05,\n",
       " 'NEG': 0.5510297595035496,\n",
       " 'OBJ': 0.44895991115342326}"
      ]
     },
     "execution_count": 3,
     "metadata": {},
     "output_type": "execute_result"
    }
   ],
   "source": [
    "pipe(\"žalostan zbog gubitka ili uskraćenosti\")"
   ]
  },
  {
   "cell_type": "code",
   "execution_count": 4,
   "id": "e12f1ed5-0f34-484a-88b8-e51aa008f2d1",
   "metadata": {},
   "outputs": [
    {
     "data": {
      "text/plain": [
       "{'POS': 0.4716352379502311,\n",
       " 'NEG': 0.037305787819768454,\n",
       " 'OBJ': 0.49105897423000044}"
      ]
     },
     "execution_count": 4,
     "metadata": {},
     "output_type": "execute_result"
    }
   ],
   "source": [
    "pipe(\"Stanje kada je neko prosperitetan i uspešan.\")"
   ]
  },
  {
   "cell_type": "code",
   "execution_count": 11,
   "id": "1c9dd979-8725-40c0-a0eb-e8e01675a709",
   "metadata": {},
   "outputs": [
    {
     "data": {
      "text/plain": [
       "{'POS': 0.356142138700168,\n",
       " 'NEG': 0.12500140593497022,\n",
       " 'OBJ': 0.5188564553648618}"
      ]
     },
     "execution_count": 11,
     "metadata": {},
     "output_type": "execute_result"
    }
   ],
   "source": [
    "pipe(\"koji lako žali i sažaljeva\")"
   ]
  },
  {
   "cell_type": "code",
   "execution_count": 14,
   "id": "0480b914-cc82-4e9d-8268-68771fa285c7",
   "metadata": {},
   "outputs": [],
   "source": [
    "from transformers import pipeline "
   ]
  },
  {
   "cell_type": "code",
   "execution_count": 15,
   "id": "d2d84223-cc92-4a0f-a587-0b70a3bf9c0b",
   "metadata": {},
   "outputs": [],
   "source": [
    "pipe_pos =pipeline('text-classification', model=\"Tanor/SRGPTSENTPOS4\")"
   ]
  },
  {
   "cell_type": "code",
   "execution_count": 16,
   "id": "deb20e77-86d9-4cb7-b1c8-d5b59377ee14",
   "metadata": {},
   "outputs": [],
   "source": [
    "pipe_neg =pipeline('text-classification', model=\"Tanor/SRGPTSENTNEG4\")"
   ]
  },
  {
   "cell_type": "code",
   "execution_count": 26,
   "id": "2548d65f-1238-4a81-92d8-d663409d73ff",
   "metadata": {},
   "outputs": [
    {
     "data": {
      "text/plain": [
       "[{'label': 'POSITIVE', 'score': 0.8717486262321472}]"
      ]
     },
     "execution_count": 26,
     "metadata": {},
     "output_type": "execute_result"
    }
   ],
   "source": [
    "pipe_pos(\"osećanje duboke ljubavi i divljenja\")"
   ]
  },
  {
   "cell_type": "code",
   "execution_count": 27,
   "id": "79843c36-c129-40e2-8741-047bbfc0fa68",
   "metadata": {},
   "outputs": [
    {
     "data": {
      "text/plain": [
       "[{'label': 'NEGATIVE', 'score': 0.5301525592803955}]"
      ]
     },
     "execution_count": 27,
     "metadata": {},
     "output_type": "execute_result"
    }
   ],
   "source": [
    "pipe_neg(\"osećanje duboke ljubavi i divljenja\")"
   ]
  },
  {
   "cell_type": "code",
   "execution_count": 5,
   "id": "5b9ab1c1-88ea-451f-bc9a-8356667c96f6",
   "metadata": {},
   "outputs": [
    {
     "data": {
      "text/plain": [
       "{'POS': 0.40958886098600544,\n",
       " 'NEG': 0.06799279403425373,\n",
       " 'OBJ': 0.5224183449797408}"
      ]
     },
     "execution_count": 5,
     "metadata": {},
     "output_type": "execute_result"
    }
   ],
   "source": [
    "pipe(\"osećanje duboke ljubavi i divljenja\")"
   ]
  },
  {
   "cell_type": "code",
   "execution_count": 20,
   "id": "a94d784c-e5f7-4b7b-b13e-5e87381de362",
   "metadata": {},
   "outputs": [
    {
     "data": {
      "text/plain": [
       "[{'label': 'NEGATIVE', 'score': 0.5302954912185669}]"
      ]
     },
     "execution_count": 20,
     "metadata": {},
     "output_type": "execute_result"
    }
   ],
   "source": [
    "pipe_neg(\"koji čini živahnim i veselim\")"
   ]
  },
  {
   "cell_type": "code",
   "execution_count": 28,
   "id": "972fc596-6932-4ff5-a963-1d286da369b2",
   "metadata": {},
   "outputs": [],
   "source": [
    "pipe_BERic = SentimentPipeline(\"Tanor/BERTicSENTPOS4\", \"Tanor/BERTicSENTNEG4\")"
   ]
  },
  {
   "cell_type": "code",
   "execution_count": 29,
   "id": "e9b04b1e-2f8f-4091-815f-2ab5de457a7d",
   "metadata": {},
   "outputs": [
    {
     "data": {
      "text/plain": [
       "{'POS': 0.7131414238334948,\n",
       " 'NEG': 0.007233959806089985,\n",
       " 'OBJ': 0.27962461636041525}"
      ]
     },
     "execution_count": 29,
     "metadata": {},
     "output_type": "execute_result"
    }
   ],
   "source": [
    "pipe_BERic(\"osećanje duboke ljubavi i divljenja\")"
   ]
  },
  {
   "cell_type": "code",
   "execution_count": 29,
   "id": "476295a5-e8cf-440f-9191-f6b8c427aaa3",
   "metadata": {},
   "outputs": [
    {
     "data": {
      "text/plain": [
       "{'POS': 0.7131414238334948,\n",
       " 'NEG': 0.007233959806089985,\n",
       " 'OBJ': 0.27962461636041525}"
      ]
     },
     "execution_count": 29,
     "metadata": {},
     "output_type": "execute_result"
    }
   ],
   "source": [
    "pipe_BERic(\"osećanje duboke ljubavi i divljenja\")"
   ]
  }
 ],
 "metadata": {
  "kernelspec": {
   "display_name": "Python 3 (ipykernel)",
   "language": "python",
   "name": "python3"
  },
  "language_info": {
   "codemirror_mode": {
    "name": "ipython",
    "version": 3
   },
   "file_extension": ".py",
   "mimetype": "text/x-python",
   "name": "python",
   "nbconvert_exporter": "python",
   "pygments_lexer": "ipython3",
   "version": "3.11.4"
  }
 },
 "nbformat": 4,
 "nbformat_minor": 5
}
